{
 "cells": [
  {
   "cell_type": "markdown",
   "id": "773d7e6e",
   "metadata": {},
   "source": [
    "# DSC 540 - Advanced Machine Learning\n",
    "# FINAL PROJECT ML\n",
    "## Swathi Babu"
   ]
  },
  {
   "cell_type": "markdown",
   "id": "950df46e",
   "metadata": {},
   "source": [
    "### SUMMARY OF THE PROJECT:\n",
    "The dataset is from UCI - https://archive.ics.uci.edu/ml/datasets/Drug+Review+Dataset+%28Drugs.com%29 \n",
    "The dataset has reviews by customers with specific health conditions for specific drugs. The dataset has 6 features and 215063 instances. The data has been explored in further sections.\n",
    "\n",
    "The aim of my project is to collect the reviews and perform text analysis like TF-IDF transformation and then use that information to predict rating classes using some popular classification algorithms. The concept is similar to sentimental analysis."
   ]
  },
  {
   "cell_type": "markdown",
   "id": "4f84bc62",
   "metadata": {},
   "source": [
    "### Importing required packages"
   ]
  },
  {
   "cell_type": "code",
   "execution_count": 1,
   "id": "586e26f9",
   "metadata": {},
   "outputs": [],
   "source": [
    "import numpy as np\n",
    "import pandas as pd\n",
    "from sklearn.model_selection import train_test_split\n",
    "from sklearn.feature_extraction.text import TfidfVectorizer\n",
    "from sklearn.feature_selection import SelectKBest, f_classif\n",
    "from sklearn.feature_extraction.text import CountVectorizer\n",
    "from sklearn.naive_bayes import MultinomialNB\n",
    "from sklearn.metrics import accuracy_score, balanced_accuracy_score, confusion_matrix, classification_report\n",
    "from sklearn.ensemble import RandomForestClassifier, GradientBoostingClassifier, BaggingClassifier, AdaBoostClassifier, IsolationForest\n",
    "from sklearn.linear_model import LogisticRegression\n",
    "from sklearn.tree import DecisionTreeClassifier\n",
    "from sklearn.model_selection import GridSearchCV\n",
    "from sklearn.decomposition import PCA\n",
    "from sklearn.neural_network import MLPClassifier\n",
    "import seaborn as sns\n",
    "import matplotlib.pyplot as plt"
   ]
  },
  {
   "cell_type": "code",
   "execution_count": 2,
   "id": "6be1704b",
   "metadata": {},
   "outputs": [],
   "source": [
    "import warnings\n",
    "warnings.filterwarnings(\"ignore\")"
   ]
  },
  {
   "cell_type": "markdown",
   "id": "b211cfeb",
   "metadata": {},
   "source": [
    "### Reading the datasets"
   ]
  },
  {
   "cell_type": "code",
   "execution_count": 3,
   "id": "ded470c3",
   "metadata": {},
   "outputs": [],
   "source": [
    "#using pandas to read in the required datasets\n",
    "train_df = pd.read_csv('drugsComTrain_raw.tsv',sep='\\t', error_bad_lines = False)\n",
    "train_df.columns = ['id', 'drugName', 'condition', 'review', 'rating', 'date', 'usefulCount']\n",
    "test_df = pd.read_csv('drugsComTest_raw.tsv',sep='\\t', error_bad_lines = False)\n",
    "test_df.columns = ['id', 'drugName', 'condition', 'review', 'rating', 'date', 'usefulCount']"
   ]
  },
  {
   "cell_type": "code",
   "execution_count": 4,
   "id": "6cec5c2f",
   "metadata": {},
   "outputs": [
    {
     "data": {
      "text/html": [
       "<div>\n",
       "<style scoped>\n",
       "    .dataframe tbody tr th:only-of-type {\n",
       "        vertical-align: middle;\n",
       "    }\n",
       "\n",
       "    .dataframe tbody tr th {\n",
       "        vertical-align: top;\n",
       "    }\n",
       "\n",
       "    .dataframe thead th {\n",
       "        text-align: right;\n",
       "    }\n",
       "</style>\n",
       "<table border=\"1\" class=\"dataframe\">\n",
       "  <thead>\n",
       "    <tr style=\"text-align: right;\">\n",
       "      <th></th>\n",
       "      <th>id</th>\n",
       "      <th>drugName</th>\n",
       "      <th>condition</th>\n",
       "      <th>review</th>\n",
       "      <th>rating</th>\n",
       "      <th>date</th>\n",
       "      <th>usefulCount</th>\n",
       "    </tr>\n",
       "  </thead>\n",
       "  <tbody>\n",
       "    <tr>\n",
       "      <th>0</th>\n",
       "      <td>206461</td>\n",
       "      <td>Valsartan</td>\n",
       "      <td>Left Ventricular Dysfunction</td>\n",
       "      <td>\"It has no side effect, I take it in combinati...</td>\n",
       "      <td>9.0</td>\n",
       "      <td>May 20, 2012</td>\n",
       "      <td>27</td>\n",
       "    </tr>\n",
       "    <tr>\n",
       "      <th>1</th>\n",
       "      <td>95260</td>\n",
       "      <td>Guanfacine</td>\n",
       "      <td>ADHD</td>\n",
       "      <td>\"My son is halfway through his fourth week of ...</td>\n",
       "      <td>8.0</td>\n",
       "      <td>April 27, 2010</td>\n",
       "      <td>192</td>\n",
       "    </tr>\n",
       "    <tr>\n",
       "      <th>2</th>\n",
       "      <td>92703</td>\n",
       "      <td>Lybrel</td>\n",
       "      <td>Birth Control</td>\n",
       "      <td>\"I used to take another oral contraceptive, wh...</td>\n",
       "      <td>5.0</td>\n",
       "      <td>December 14, 2009</td>\n",
       "      <td>17</td>\n",
       "    </tr>\n",
       "    <tr>\n",
       "      <th>3</th>\n",
       "      <td>138000</td>\n",
       "      <td>Ortho Evra</td>\n",
       "      <td>Birth Control</td>\n",
       "      <td>\"This is my first time using any form of birth...</td>\n",
       "      <td>8.0</td>\n",
       "      <td>November 3, 2015</td>\n",
       "      <td>10</td>\n",
       "    </tr>\n",
       "    <tr>\n",
       "      <th>4</th>\n",
       "      <td>35696</td>\n",
       "      <td>Buprenorphine / naloxone</td>\n",
       "      <td>Opiate Dependence</td>\n",
       "      <td>\"Suboxone has completely turned my life around...</td>\n",
       "      <td>9.0</td>\n",
       "      <td>November 27, 2016</td>\n",
       "      <td>37</td>\n",
       "    </tr>\n",
       "  </tbody>\n",
       "</table>\n",
       "</div>"
      ],
      "text/plain": [
       "       id                  drugName                     condition  \\\n",
       "0  206461                 Valsartan  Left Ventricular Dysfunction   \n",
       "1   95260                Guanfacine                          ADHD   \n",
       "2   92703                    Lybrel                 Birth Control   \n",
       "3  138000                Ortho Evra                 Birth Control   \n",
       "4   35696  Buprenorphine / naloxone             Opiate Dependence   \n",
       "\n",
       "                                              review  rating  \\\n",
       "0  \"It has no side effect, I take it in combinati...     9.0   \n",
       "1  \"My son is halfway through his fourth week of ...     8.0   \n",
       "2  \"I used to take another oral contraceptive, wh...     5.0   \n",
       "3  \"This is my first time using any form of birth...     8.0   \n",
       "4  \"Suboxone has completely turned my life around...     9.0   \n",
       "\n",
       "                date  usefulCount  \n",
       "0       May 20, 2012           27  \n",
       "1     April 27, 2010          192  \n",
       "2  December 14, 2009           17  \n",
       "3   November 3, 2015           10  \n",
       "4  November 27, 2016           37  "
      ]
     },
     "execution_count": 4,
     "metadata": {},
     "output_type": "execute_result"
    }
   ],
   "source": [
    "train_df.head() #looking at the first 5 rows of the train dataset"
   ]
  },
  {
   "cell_type": "code",
   "execution_count": 5,
   "id": "30236ec5",
   "metadata": {
    "scrolled": true
   },
   "outputs": [
    {
     "data": {
      "text/html": [
       "<div>\n",
       "<style scoped>\n",
       "    .dataframe tbody tr th:only-of-type {\n",
       "        vertical-align: middle;\n",
       "    }\n",
       "\n",
       "    .dataframe tbody tr th {\n",
       "        vertical-align: top;\n",
       "    }\n",
       "\n",
       "    .dataframe thead th {\n",
       "        text-align: right;\n",
       "    }\n",
       "</style>\n",
       "<table border=\"1\" class=\"dataframe\">\n",
       "  <thead>\n",
       "    <tr style=\"text-align: right;\">\n",
       "      <th></th>\n",
       "      <th>id</th>\n",
       "      <th>drugName</th>\n",
       "      <th>condition</th>\n",
       "      <th>review</th>\n",
       "      <th>rating</th>\n",
       "      <th>date</th>\n",
       "      <th>usefulCount</th>\n",
       "    </tr>\n",
       "  </thead>\n",
       "  <tbody>\n",
       "    <tr>\n",
       "      <th>0</th>\n",
       "      <td>163740</td>\n",
       "      <td>Mirtazapine</td>\n",
       "      <td>Depression</td>\n",
       "      <td>\"I&amp;#039;ve tried a few antidepressants over th...</td>\n",
       "      <td>10.0</td>\n",
       "      <td>February 28, 2012</td>\n",
       "      <td>22</td>\n",
       "    </tr>\n",
       "    <tr>\n",
       "      <th>1</th>\n",
       "      <td>206473</td>\n",
       "      <td>Mesalamine</td>\n",
       "      <td>Crohn's Disease, Maintenance</td>\n",
       "      <td>\"My son has Crohn&amp;#039;s disease and has done ...</td>\n",
       "      <td>8.0</td>\n",
       "      <td>May 17, 2009</td>\n",
       "      <td>17</td>\n",
       "    </tr>\n",
       "    <tr>\n",
       "      <th>2</th>\n",
       "      <td>159672</td>\n",
       "      <td>Bactrim</td>\n",
       "      <td>Urinary Tract Infection</td>\n",
       "      <td>\"Quick reduction of symptoms\"</td>\n",
       "      <td>9.0</td>\n",
       "      <td>September 29, 2017</td>\n",
       "      <td>3</td>\n",
       "    </tr>\n",
       "    <tr>\n",
       "      <th>3</th>\n",
       "      <td>39293</td>\n",
       "      <td>Contrave</td>\n",
       "      <td>Weight Loss</td>\n",
       "      <td>\"Contrave combines drugs that were used for al...</td>\n",
       "      <td>9.0</td>\n",
       "      <td>March 5, 2017</td>\n",
       "      <td>35</td>\n",
       "    </tr>\n",
       "    <tr>\n",
       "      <th>4</th>\n",
       "      <td>97768</td>\n",
       "      <td>Cyclafem 1 / 35</td>\n",
       "      <td>Birth Control</td>\n",
       "      <td>\"I have been on this birth control for one cyc...</td>\n",
       "      <td>9.0</td>\n",
       "      <td>October 22, 2015</td>\n",
       "      <td>4</td>\n",
       "    </tr>\n",
       "  </tbody>\n",
       "</table>\n",
       "</div>"
      ],
      "text/plain": [
       "       id         drugName                     condition  \\\n",
       "0  163740      Mirtazapine                    Depression   \n",
       "1  206473       Mesalamine  Crohn's Disease, Maintenance   \n",
       "2  159672          Bactrim       Urinary Tract Infection   \n",
       "3   39293         Contrave                   Weight Loss   \n",
       "4   97768  Cyclafem 1 / 35                 Birth Control   \n",
       "\n",
       "                                              review  rating  \\\n",
       "0  \"I&#039;ve tried a few antidepressants over th...    10.0   \n",
       "1  \"My son has Crohn&#039;s disease and has done ...     8.0   \n",
       "2                      \"Quick reduction of symptoms\"     9.0   \n",
       "3  \"Contrave combines drugs that were used for al...     9.0   \n",
       "4  \"I have been on this birth control for one cyc...     9.0   \n",
       "\n",
       "                 date  usefulCount  \n",
       "0   February 28, 2012           22  \n",
       "1        May 17, 2009           17  \n",
       "2  September 29, 2017            3  \n",
       "3       March 5, 2017           35  \n",
       "4    October 22, 2015            4  "
      ]
     },
     "execution_count": 5,
     "metadata": {},
     "output_type": "execute_result"
    }
   ],
   "source": [
    "test_df.head() #looking at the first 5 rows of the test dataset"
   ]
  },
  {
   "cell_type": "markdown",
   "id": "2f06a23a",
   "metadata": {},
   "source": [
    "### Some basic statistics of the data"
   ]
  },
  {
   "cell_type": "code",
   "execution_count": 6,
   "id": "d7b3dd9f",
   "metadata": {},
   "outputs": [
    {
     "name": "stdout",
     "output_type": "stream",
     "text": [
      "<class 'pandas.core.frame.DataFrame'>\n",
      "RangeIndex: 161297 entries, 0 to 161296\n",
      "Data columns (total 7 columns):\n",
      " #   Column       Non-Null Count   Dtype  \n",
      "---  ------       --------------   -----  \n",
      " 0   id           161297 non-null  int64  \n",
      " 1   drugName     161297 non-null  object \n",
      " 2   condition    160398 non-null  object \n",
      " 3   review       161297 non-null  object \n",
      " 4   rating       161297 non-null  float64\n",
      " 5   date         161297 non-null  object \n",
      " 6   usefulCount  161297 non-null  int64  \n",
      "dtypes: float64(1), int64(2), object(4)\n",
      "memory usage: 8.6+ MB\n"
     ]
    }
   ],
   "source": [
    "train_df.info() #some basic stats about the features in the dataset"
   ]
  },
  {
   "cell_type": "markdown",
   "id": "372f3fee",
   "metadata": {},
   "source": [
    "There are 7 variables and 161297 rows/instances. There are 4 categorical variables. There are also missing values in the condition column (899 values). For now, the variable isn't going to be used so we are not dealing with it."
   ]
  },
  {
   "cell_type": "code",
   "execution_count": 7,
   "id": "6da06907",
   "metadata": {},
   "outputs": [
    {
     "name": "stdout",
     "output_type": "stream",
     "text": [
      "<class 'pandas.core.frame.DataFrame'>\n",
      "RangeIndex: 53766 entries, 0 to 53765\n",
      "Data columns (total 7 columns):\n",
      " #   Column       Non-Null Count  Dtype  \n",
      "---  ------       --------------  -----  \n",
      " 0   id           53766 non-null  int64  \n",
      " 1   drugName     53766 non-null  object \n",
      " 2   condition    53471 non-null  object \n",
      " 3   review       53766 non-null  object \n",
      " 4   rating       53766 non-null  float64\n",
      " 5   date         53766 non-null  object \n",
      " 6   usefulCount  53766 non-null  int64  \n",
      "dtypes: float64(1), int64(2), object(4)\n",
      "memory usage: 2.9+ MB\n"
     ]
    }
   ],
   "source": [
    "test_df.info() #basic stats about the features in the test dataset"
   ]
  },
  {
   "cell_type": "markdown",
   "id": "de9b6053",
   "metadata": {},
   "source": [
    "There are 53766 rows/instances in the test dataset.  There are also missing values in the condition column here too(295 values). "
   ]
  },
  {
   "cell_type": "code",
   "execution_count": 8,
   "id": "18ba9420",
   "metadata": {
    "scrolled": true
   },
   "outputs": [
    {
     "data": {
      "text/html": [
       "<div>\n",
       "<style scoped>\n",
       "    .dataframe tbody tr th:only-of-type {\n",
       "        vertical-align: middle;\n",
       "    }\n",
       "\n",
       "    .dataframe tbody tr th {\n",
       "        vertical-align: top;\n",
       "    }\n",
       "\n",
       "    .dataframe thead th {\n",
       "        text-align: right;\n",
       "    }\n",
       "</style>\n",
       "<table border=\"1\" class=\"dataframe\">\n",
       "  <thead>\n",
       "    <tr style=\"text-align: right;\">\n",
       "      <th></th>\n",
       "      <th>id</th>\n",
       "      <th>drugName</th>\n",
       "      <th>condition</th>\n",
       "      <th>review</th>\n",
       "      <th>rating</th>\n",
       "      <th>date</th>\n",
       "      <th>usefulCount</th>\n",
       "    </tr>\n",
       "  </thead>\n",
       "  <tbody>\n",
       "    <tr>\n",
       "      <th>count</th>\n",
       "      <td>161297.000000</td>\n",
       "      <td>161297</td>\n",
       "      <td>160398</td>\n",
       "      <td>161297</td>\n",
       "      <td>161297.000000</td>\n",
       "      <td>161297</td>\n",
       "      <td>161297.000000</td>\n",
       "    </tr>\n",
       "    <tr>\n",
       "      <th>unique</th>\n",
       "      <td>NaN</td>\n",
       "      <td>3436</td>\n",
       "      <td>884</td>\n",
       "      <td>112329</td>\n",
       "      <td>NaN</td>\n",
       "      <td>3579</td>\n",
       "      <td>NaN</td>\n",
       "    </tr>\n",
       "    <tr>\n",
       "      <th>top</th>\n",
       "      <td>NaN</td>\n",
       "      <td>Levonorgestrel</td>\n",
       "      <td>Birth Control</td>\n",
       "      <td>\"Good\"</td>\n",
       "      <td>NaN</td>\n",
       "      <td>March 1, 2016</td>\n",
       "      <td>NaN</td>\n",
       "    </tr>\n",
       "    <tr>\n",
       "      <th>freq</th>\n",
       "      <td>NaN</td>\n",
       "      <td>3657</td>\n",
       "      <td>28788</td>\n",
       "      <td>33</td>\n",
       "      <td>NaN</td>\n",
       "      <td>146</td>\n",
       "      <td>NaN</td>\n",
       "    </tr>\n",
       "    <tr>\n",
       "      <th>mean</th>\n",
       "      <td>115923.585305</td>\n",
       "      <td>NaN</td>\n",
       "      <td>NaN</td>\n",
       "      <td>NaN</td>\n",
       "      <td>6.994377</td>\n",
       "      <td>NaN</td>\n",
       "      <td>28.004755</td>\n",
       "    </tr>\n",
       "    <tr>\n",
       "      <th>std</th>\n",
       "      <td>67004.445170</td>\n",
       "      <td>NaN</td>\n",
       "      <td>NaN</td>\n",
       "      <td>NaN</td>\n",
       "      <td>3.272329</td>\n",
       "      <td>NaN</td>\n",
       "      <td>36.403742</td>\n",
       "    </tr>\n",
       "    <tr>\n",
       "      <th>min</th>\n",
       "      <td>2.000000</td>\n",
       "      <td>NaN</td>\n",
       "      <td>NaN</td>\n",
       "      <td>NaN</td>\n",
       "      <td>1.000000</td>\n",
       "      <td>NaN</td>\n",
       "      <td>0.000000</td>\n",
       "    </tr>\n",
       "    <tr>\n",
       "      <th>25%</th>\n",
       "      <td>58063.000000</td>\n",
       "      <td>NaN</td>\n",
       "      <td>NaN</td>\n",
       "      <td>NaN</td>\n",
       "      <td>5.000000</td>\n",
       "      <td>NaN</td>\n",
       "      <td>6.000000</td>\n",
       "    </tr>\n",
       "    <tr>\n",
       "      <th>50%</th>\n",
       "      <td>115744.000000</td>\n",
       "      <td>NaN</td>\n",
       "      <td>NaN</td>\n",
       "      <td>NaN</td>\n",
       "      <td>8.000000</td>\n",
       "      <td>NaN</td>\n",
       "      <td>16.000000</td>\n",
       "    </tr>\n",
       "    <tr>\n",
       "      <th>75%</th>\n",
       "      <td>173776.000000</td>\n",
       "      <td>NaN</td>\n",
       "      <td>NaN</td>\n",
       "      <td>NaN</td>\n",
       "      <td>10.000000</td>\n",
       "      <td>NaN</td>\n",
       "      <td>36.000000</td>\n",
       "    </tr>\n",
       "    <tr>\n",
       "      <th>max</th>\n",
       "      <td>232291.000000</td>\n",
       "      <td>NaN</td>\n",
       "      <td>NaN</td>\n",
       "      <td>NaN</td>\n",
       "      <td>10.000000</td>\n",
       "      <td>NaN</td>\n",
       "      <td>1291.000000</td>\n",
       "    </tr>\n",
       "  </tbody>\n",
       "</table>\n",
       "</div>"
      ],
      "text/plain": [
       "                   id        drugName      condition  review         rating  \\\n",
       "count   161297.000000          161297         160398  161297  161297.000000   \n",
       "unique            NaN            3436            884  112329            NaN   \n",
       "top               NaN  Levonorgestrel  Birth Control  \"Good\"            NaN   \n",
       "freq              NaN            3657          28788      33            NaN   \n",
       "mean    115923.585305             NaN            NaN     NaN       6.994377   \n",
       "std      67004.445170             NaN            NaN     NaN       3.272329   \n",
       "min          2.000000             NaN            NaN     NaN       1.000000   \n",
       "25%      58063.000000             NaN            NaN     NaN       5.000000   \n",
       "50%     115744.000000             NaN            NaN     NaN       8.000000   \n",
       "75%     173776.000000             NaN            NaN     NaN      10.000000   \n",
       "max     232291.000000             NaN            NaN     NaN      10.000000   \n",
       "\n",
       "                 date    usefulCount  \n",
       "count          161297  161297.000000  \n",
       "unique           3579            NaN  \n",
       "top     March 1, 2016            NaN  \n",
       "freq              146            NaN  \n",
       "mean              NaN      28.004755  \n",
       "std               NaN      36.403742  \n",
       "min               NaN       0.000000  \n",
       "25%               NaN       6.000000  \n",
       "50%               NaN      16.000000  \n",
       "75%               NaN      36.000000  \n",
       "max               NaN    1291.000000  "
      ]
     },
     "execution_count": 8,
     "metadata": {},
     "output_type": "execute_result"
    }
   ],
   "source": [
    "train_df.describe(include = 'all') #Other stats"
   ]
  },
  {
   "cell_type": "markdown",
   "id": "f9075bf7",
   "metadata": {},
   "source": [
    "We can see that there are 3436 drugs in the dataset, 884 conditions being treated."
   ]
  },
  {
   "cell_type": "markdown",
   "id": "286e01e9",
   "metadata": {},
   "source": [
    "### Pre-Processing and Exploratory Analysis"
   ]
  },
  {
   "cell_type": "markdown",
   "id": "0324c711",
   "metadata": {},
   "source": [
    "#### Some Popular drugs"
   ]
  },
  {
   "cell_type": "code",
   "execution_count": 9,
   "id": "b2ce2faf",
   "metadata": {
    "scrolled": true
   },
   "outputs": [
    {
     "data": {
      "text/plain": [
       "Levonorgestrel                       3657\n",
       "Etonogestrel                         3336\n",
       "Ethinyl estradiol / norethindrone    2850\n",
       "Nexplanon                            2156\n",
       "Ethinyl estradiol / norgestimate     2117\n",
       "                                     ... \n",
       "Omnipaque 350                           1\n",
       "Vontrol                                 1\n",
       "Ivabradine                              1\n",
       "Neo-Poly-Dex                            1\n",
       "Grifulvin V                             1\n",
       "Name: drugName, Length: 3436, dtype: int64"
      ]
     },
     "execution_count": 9,
     "metadata": {},
     "output_type": "execute_result"
    }
   ],
   "source": [
    "train_df['drugName'].value_counts() # counting the number of times each drug was rated and reviewed"
   ]
  },
  {
   "cell_type": "markdown",
   "id": "a77bbdf3",
   "metadata": {},
   "source": [
    "'Levonorgestrel' is the drug that has been reviewed the most."
   ]
  },
  {
   "cell_type": "markdown",
   "id": "f1913510",
   "metadata": {},
   "source": [
    "#### Looking at the data of the top 5 popular drugs"
   ]
  },
  {
   "cell_type": "code",
   "execution_count": 10,
   "id": "b02dd12a",
   "metadata": {
    "scrolled": true
   },
   "outputs": [
    {
     "data": {
      "text/html": [
       "<div>\n",
       "<style scoped>\n",
       "    .dataframe tbody tr th:only-of-type {\n",
       "        vertical-align: middle;\n",
       "    }\n",
       "\n",
       "    .dataframe tbody tr th {\n",
       "        vertical-align: top;\n",
       "    }\n",
       "\n",
       "    .dataframe thead th {\n",
       "        text-align: right;\n",
       "    }\n",
       "</style>\n",
       "<table border=\"1\" class=\"dataframe\">\n",
       "  <thead>\n",
       "    <tr style=\"text-align: right;\">\n",
       "      <th></th>\n",
       "      <th>id</th>\n",
       "      <th>drugName</th>\n",
       "      <th>condition</th>\n",
       "      <th>review</th>\n",
       "      <th>rating</th>\n",
       "      <th>date</th>\n",
       "      <th>usefulCount</th>\n",
       "    </tr>\n",
       "  </thead>\n",
       "  <tbody>\n",
       "    <tr>\n",
       "      <th>6</th>\n",
       "      <td>165907</td>\n",
       "      <td>Levonorgestrel</td>\n",
       "      <td>Emergency Contraception</td>\n",
       "      <td>\"He pulled out, but he cummed a bit in me. I t...</td>\n",
       "      <td>1.0</td>\n",
       "      <td>March 7, 2017</td>\n",
       "      <td>5</td>\n",
       "    </tr>\n",
       "    <tr>\n",
       "      <th>14</th>\n",
       "      <td>98494</td>\n",
       "      <td>Nexplanon</td>\n",
       "      <td>Birth Control</td>\n",
       "      <td>\"Started Nexplanon 2 months ago because I have...</td>\n",
       "      <td>3.0</td>\n",
       "      <td>August 7, 2014</td>\n",
       "      <td>10</td>\n",
       "    </tr>\n",
       "    <tr>\n",
       "      <th>22</th>\n",
       "      <td>227020</td>\n",
       "      <td>Etonogestrel</td>\n",
       "      <td>Birth Control</td>\n",
       "      <td>\"Nexplanon does its job. I can have worry free...</td>\n",
       "      <td>9.0</td>\n",
       "      <td>August 11, 2014</td>\n",
       "      <td>11</td>\n",
       "    </tr>\n",
       "    <tr>\n",
       "      <th>69</th>\n",
       "      <td>85162</td>\n",
       "      <td>Ethinyl estradiol / norgestimate</td>\n",
       "      <td>Acne</td>\n",
       "      <td>\"Best treatment for acne I have used! I&amp;#039;v...</td>\n",
       "      <td>9.0</td>\n",
       "      <td>November 3, 2015</td>\n",
       "      <td>7</td>\n",
       "    </tr>\n",
       "    <tr>\n",
       "      <th>74</th>\n",
       "      <td>144224</td>\n",
       "      <td>Etonogestrel</td>\n",
       "      <td>Birth Control</td>\n",
       "      <td>\"My experience during the nexplon is great not...</td>\n",
       "      <td>10.0</td>\n",
       "      <td>May 27, 2016</td>\n",
       "      <td>1</td>\n",
       "    </tr>\n",
       "    <tr>\n",
       "      <th>...</th>\n",
       "      <td>...</td>\n",
       "      <td>...</td>\n",
       "      <td>...</td>\n",
       "      <td>...</td>\n",
       "      <td>...</td>\n",
       "      <td>...</td>\n",
       "      <td>...</td>\n",
       "    </tr>\n",
       "    <tr>\n",
       "      <th>161257</th>\n",
       "      <td>142183</td>\n",
       "      <td>Levonorgestrel</td>\n",
       "      <td>Birth Control</td>\n",
       "      <td>\"There are some bad reviews about Kyleena - so...</td>\n",
       "      <td>10.0</td>\n",
       "      <td>December 6, 2017</td>\n",
       "      <td>0</td>\n",
       "    </tr>\n",
       "    <tr>\n",
       "      <th>161262</th>\n",
       "      <td>144132</td>\n",
       "      <td>Etonogestrel</td>\n",
       "      <td>Birth Control</td>\n",
       "      <td>\"I got on the Nexplanon the same day I had my ...</td>\n",
       "      <td>3.0</td>\n",
       "      <td>June 20, 2016</td>\n",
       "      <td>7</td>\n",
       "    </tr>\n",
       "    <tr>\n",
       "      <th>161264</th>\n",
       "      <td>143487</td>\n",
       "      <td>Etonogestrel</td>\n",
       "      <td>Birth Control</td>\n",
       "      <td>\"Honestly, this was the worst birth control I ...</td>\n",
       "      <td>3.0</td>\n",
       "      <td>January 31, 2017</td>\n",
       "      <td>5</td>\n",
       "    </tr>\n",
       "    <tr>\n",
       "      <th>161269</th>\n",
       "      <td>73058</td>\n",
       "      <td>Ethinyl estradiol / norethindrone</td>\n",
       "      <td>Birth Control</td>\n",
       "      <td>\"When I first starting taking Lo Loestrin Fe, ...</td>\n",
       "      <td>10.0</td>\n",
       "      <td>April 20, 2015</td>\n",
       "      <td>13</td>\n",
       "    </tr>\n",
       "    <tr>\n",
       "      <th>161273</th>\n",
       "      <td>109111</td>\n",
       "      <td>Nexplanon</td>\n",
       "      <td>Birth Control</td>\n",
       "      <td>\"I have had the Nexplanon since Dec. 27, 2016 ...</td>\n",
       "      <td>6.0</td>\n",
       "      <td>April 6, 2017</td>\n",
       "      <td>0</td>\n",
       "    </tr>\n",
       "  </tbody>\n",
       "</table>\n",
       "<p>14116 rows × 7 columns</p>\n",
       "</div>"
      ],
      "text/plain": [
       "            id                           drugName                condition  \\\n",
       "6       165907                     Levonorgestrel  Emergency Contraception   \n",
       "14       98494                          Nexplanon            Birth Control   \n",
       "22      227020                       Etonogestrel            Birth Control   \n",
       "69       85162   Ethinyl estradiol / norgestimate                     Acne   \n",
       "74      144224                       Etonogestrel            Birth Control   \n",
       "...        ...                                ...                      ...   \n",
       "161257  142183                     Levonorgestrel            Birth Control   \n",
       "161262  144132                       Etonogestrel            Birth Control   \n",
       "161264  143487                       Etonogestrel            Birth Control   \n",
       "161269   73058  Ethinyl estradiol / norethindrone            Birth Control   \n",
       "161273  109111                          Nexplanon            Birth Control   \n",
       "\n",
       "                                                   review  rating  \\\n",
       "6       \"He pulled out, but he cummed a bit in me. I t...     1.0   \n",
       "14      \"Started Nexplanon 2 months ago because I have...     3.0   \n",
       "22      \"Nexplanon does its job. I can have worry free...     9.0   \n",
       "69      \"Best treatment for acne I have used! I&#039;v...     9.0   \n",
       "74      \"My experience during the nexplon is great not...    10.0   \n",
       "...                                                   ...     ...   \n",
       "161257  \"There are some bad reviews about Kyleena - so...    10.0   \n",
       "161262  \"I got on the Nexplanon the same day I had my ...     3.0   \n",
       "161264  \"Honestly, this was the worst birth control I ...     3.0   \n",
       "161269  \"When I first starting taking Lo Loestrin Fe, ...    10.0   \n",
       "161273  \"I have had the Nexplanon since Dec. 27, 2016 ...     6.0   \n",
       "\n",
       "                    date  usefulCount  \n",
       "6          March 7, 2017            5  \n",
       "14        August 7, 2014           10  \n",
       "22       August 11, 2014           11  \n",
       "69      November 3, 2015            7  \n",
       "74          May 27, 2016            1  \n",
       "...                  ...          ...  \n",
       "161257  December 6, 2017            0  \n",
       "161262     June 20, 2016            7  \n",
       "161264  January 31, 2017            5  \n",
       "161269    April 20, 2015           13  \n",
       "161273     April 6, 2017            0  \n",
       "\n",
       "[14116 rows x 7 columns]"
      ]
     },
     "execution_count": 10,
     "metadata": {},
     "output_type": "execute_result"
    }
   ],
   "source": [
    "popDrugs = train_df['drugName'].value_counts()[:5] #taking the top 5 of the popular drugs\n",
    "train_df.loc[train_df['drugName'].isin(popDrugs.index),:] #extracting the data of the 5 popular drugs"
   ]
  },
  {
   "cell_type": "code",
   "execution_count": 11,
   "id": "e86b4fd1",
   "metadata": {},
   "outputs": [
    {
     "data": {
      "image/png": "[encoded data removed]",
      "text/plain": [
       "<Figure size 432x288 with 1 Axes>"
      ]
     },
     "metadata": {
      "needs_background": "light"
     },
     "output_type": "display_data"
    }
   ],
   "source": [
    "#plotting the top 5 drugs\n",
    "popDrugs.plot(kind = 'bar')\n",
    "plt.title('Popular Drugs')\n",
    "plt.show()"
   ]
  },
  {
   "cell_type": "code",
   "execution_count": 12,
   "id": "e7eb6489",
   "metadata": {},
   "outputs": [
    {
     "data": {
      "text/plain": [
       "Birth Control                                 11509\n",
       "Emergency Contraception                        1221\n",
       "Abnormal Uterine Bleeding                       509\n",
       "Acne                                            344\n",
       "Menstrual Disorders                              93\n",
       "Endometriosis                                    84\n",
       "Ovarian Cysts                                    54\n",
       "Polycystic Ovary Syndrome                        53\n",
       "Not Listed / Othe                                12\n",
       "Postmenopausal Symptoms                           5\n",
       "8</span> users found this comment helpful.        2\n",
       "2</span> users found this comment helpful.        1\n",
       "4</span> users found this comment helpful.        1\n",
       "9</span> users found this comment helpful.        1\n",
       "3</span> users found this comment helpful.        1\n",
       "1</span> users found this comment helpful.        1\n",
       "Name: condition, dtype: int64"
      ]
     },
     "execution_count": 12,
     "metadata": {},
     "output_type": "execute_result"
    }
   ],
   "source": [
    "# Top conditions for which the top 5 drugs were used\n",
    "train_df.loc[train_df['drugName'].isin(popDrugs.index),'condition'].value_counts() "
   ]
  },
  {
   "cell_type": "markdown",
   "id": "199cf225",
   "metadata": {},
   "source": [
    "'Birth Control' is the highest number of condition for which the drugs were used. The other conditions also seem to be for hormonal issues and a few other conditions"
   ]
  },
  {
   "cell_type": "markdown",
   "id": "188e8aea",
   "metadata": {},
   "source": [
    "#### Most common conditions"
   ]
  },
  {
   "cell_type": "code",
   "execution_count": 13,
   "id": "e4b144da",
   "metadata": {},
   "outputs": [
    {
     "data": {
      "text/plain": [
       "Birth Control                                              28788\n",
       "Depression                                                  9069\n",
       "Pain                                                        6145\n",
       "Anxiety                                                     5904\n",
       "Acne                                                        5588\n",
       "                                                           ...  \n",
       "Dissociative Identity Disorde                                  1\n",
       "Hydrocephalus                                                  1\n",
       "Hyperlipoproteinemia Type III, Elevated beta-VLDL   IDL        1\n",
       "Q Feve                                                         1\n",
       "Neutropenia                                                    1\n",
       "Name: condition, Length: 884, dtype: int64"
      ]
     },
     "execution_count": 13,
     "metadata": {},
     "output_type": "execute_result"
    }
   ],
   "source": [
    "train_df['condition'].value_counts() #Counting the conditions"
   ]
  },
  {
   "cell_type": "code",
   "execution_count": 14,
   "id": "ae53260f",
   "metadata": {
    "scrolled": true
   },
   "outputs": [
    {
     "data": {
      "text/html": [
       "<div>\n",
       "<style scoped>\n",
       "    .dataframe tbody tr th:only-of-type {\n",
       "        vertical-align: middle;\n",
       "    }\n",
       "\n",
       "    .dataframe tbody tr th {\n",
       "        vertical-align: top;\n",
       "    }\n",
       "\n",
       "    .dataframe thead th {\n",
       "        text-align: right;\n",
       "    }\n",
       "</style>\n",
       "<table border=\"1\" class=\"dataframe\">\n",
       "  <thead>\n",
       "    <tr style=\"text-align: right;\">\n",
       "      <th></th>\n",
       "      <th>id</th>\n",
       "      <th>drugName</th>\n",
       "      <th>condition</th>\n",
       "      <th>review</th>\n",
       "      <th>rating</th>\n",
       "      <th>date</th>\n",
       "      <th>usefulCount</th>\n",
       "    </tr>\n",
       "  </thead>\n",
       "  <tbody>\n",
       "    <tr>\n",
       "      <th>1</th>\n",
       "      <td>95260</td>\n",
       "      <td>Guanfacine</td>\n",
       "      <td>ADHD</td>\n",
       "      <td>\"My son is halfway through his fourth week of ...</td>\n",
       "      <td>8.0</td>\n",
       "      <td>April 27, 2010</td>\n",
       "      <td>192</td>\n",
       "    </tr>\n",
       "    <tr>\n",
       "      <th>2</th>\n",
       "      <td>92703</td>\n",
       "      <td>Lybrel</td>\n",
       "      <td>Birth Control</td>\n",
       "      <td>\"I used to take another oral contraceptive, wh...</td>\n",
       "      <td>5.0</td>\n",
       "      <td>December 14, 2009</td>\n",
       "      <td>17</td>\n",
       "    </tr>\n",
       "    <tr>\n",
       "      <th>3</th>\n",
       "      <td>138000</td>\n",
       "      <td>Ortho Evra</td>\n",
       "      <td>Birth Control</td>\n",
       "      <td>\"This is my first time using any form of birth...</td>\n",
       "      <td>8.0</td>\n",
       "      <td>November 3, 2015</td>\n",
       "      <td>10</td>\n",
       "    </tr>\n",
       "    <tr>\n",
       "      <th>7</th>\n",
       "      <td>102654</td>\n",
       "      <td>Aripiprazole</td>\n",
       "      <td>Bipolar Disorde</td>\n",
       "      <td>\"Abilify changed my life. There is hope. I was...</td>\n",
       "      <td>10.0</td>\n",
       "      <td>March 14, 2015</td>\n",
       "      <td>32</td>\n",
       "    </tr>\n",
       "    <tr>\n",
       "      <th>9</th>\n",
       "      <td>48928</td>\n",
       "      <td>Ethinyl estradiol / levonorgestrel</td>\n",
       "      <td>Birth Control</td>\n",
       "      <td>\"I had been on the pill for many years. When m...</td>\n",
       "      <td>8.0</td>\n",
       "      <td>December 8, 2016</td>\n",
       "      <td>1</td>\n",
       "    </tr>\n",
       "    <tr>\n",
       "      <th>...</th>\n",
       "      <td>...</td>\n",
       "      <td>...</td>\n",
       "      <td>...</td>\n",
       "      <td>...</td>\n",
       "      <td>...</td>\n",
       "      <td>...</td>\n",
       "      <td>...</td>\n",
       "    </tr>\n",
       "    <tr>\n",
       "      <th>161277</th>\n",
       "      <td>18421</td>\n",
       "      <td>Zolpidem</td>\n",
       "      <td>Insomnia</td>\n",
       "      <td>\"I started taking this medication 10 years ago...</td>\n",
       "      <td>10.0</td>\n",
       "      <td>November 16, 2008</td>\n",
       "      <td>103</td>\n",
       "    </tr>\n",
       "    <tr>\n",
       "      <th>161283</th>\n",
       "      <td>228492</td>\n",
       "      <td>Geodon</td>\n",
       "      <td>Bipolar Disorde</td>\n",
       "      <td>\"I was in a very bad place at the time I start...</td>\n",
       "      <td>3.0</td>\n",
       "      <td>July 25, 2016</td>\n",
       "      <td>5</td>\n",
       "    </tr>\n",
       "    <tr>\n",
       "      <th>161286</th>\n",
       "      <td>93069</td>\n",
       "      <td>Vortioxetine</td>\n",
       "      <td>Depression</td>\n",
       "      <td>\"This is the third med I&amp;#039;ve tried for anx...</td>\n",
       "      <td>2.0</td>\n",
       "      <td>July 17, 2016</td>\n",
       "      <td>33</td>\n",
       "    </tr>\n",
       "    <tr>\n",
       "      <th>161287</th>\n",
       "      <td>132177</td>\n",
       "      <td>Ativan</td>\n",
       "      <td>Anxiety</td>\n",
       "      <td>\"I was super against taking medication. I&amp;#039...</td>\n",
       "      <td>9.0</td>\n",
       "      <td>August 16, 2016</td>\n",
       "      <td>61</td>\n",
       "    </tr>\n",
       "    <tr>\n",
       "      <th>161291</th>\n",
       "      <td>164345</td>\n",
       "      <td>Junel 1.5 / 30</td>\n",
       "      <td>Birth Control</td>\n",
       "      <td>\"This would be my second month on Junel. I&amp;#03...</td>\n",
       "      <td>6.0</td>\n",
       "      <td>May 27, 2015</td>\n",
       "      <td>0</td>\n",
       "    </tr>\n",
       "  </tbody>\n",
       "</table>\n",
       "<p>73951 rows × 7 columns</p>\n",
       "</div>"
      ],
      "text/plain": [
       "            id                            drugName        condition  \\\n",
       "1        95260                          Guanfacine             ADHD   \n",
       "2        92703                              Lybrel    Birth Control   \n",
       "3       138000                          Ortho Evra    Birth Control   \n",
       "7       102654                        Aripiprazole  Bipolar Disorde   \n",
       "9        48928  Ethinyl estradiol / levonorgestrel    Birth Control   \n",
       "...        ...                                 ...              ...   \n",
       "161277   18421                            Zolpidem         Insomnia   \n",
       "161283  228492                              Geodon  Bipolar Disorde   \n",
       "161286   93069                        Vortioxetine       Depression   \n",
       "161287  132177                              Ativan          Anxiety   \n",
       "161291  164345                      Junel 1.5 / 30    Birth Control   \n",
       "\n",
       "                                                   review  rating  \\\n",
       "1       \"My son is halfway through his fourth week of ...     8.0   \n",
       "2       \"I used to take another oral contraceptive, wh...     5.0   \n",
       "3       \"This is my first time using any form of birth...     8.0   \n",
       "7       \"Abilify changed my life. There is hope. I was...    10.0   \n",
       "9       \"I had been on the pill for many years. When m...     8.0   \n",
       "...                                                   ...     ...   \n",
       "161277  \"I started taking this medication 10 years ago...    10.0   \n",
       "161283  \"I was in a very bad place at the time I start...     3.0   \n",
       "161286  \"This is the third med I&#039;ve tried for anx...     2.0   \n",
       "161287  \"I was super against taking medication. I&#039...     9.0   \n",
       "161291  \"This would be my second month on Junel. I&#03...     6.0   \n",
       "\n",
       "                     date  usefulCount  \n",
       "1          April 27, 2010          192  \n",
       "2       December 14, 2009           17  \n",
       "3        November 3, 2015           10  \n",
       "7          March 14, 2015           32  \n",
       "9        December 8, 2016            1  \n",
       "...                   ...          ...  \n",
       "161277  November 16, 2008          103  \n",
       "161283      July 25, 2016            5  \n",
       "161286      July 17, 2016           33  \n",
       "161287    August 16, 2016           61  \n",
       "161291       May 27, 2015            0  \n",
       "\n",
       "[73951 rows x 7 columns]"
      ]
     },
     "execution_count": 14,
     "metadata": {},
     "output_type": "execute_result"
    }
   ],
   "source": [
    "popCond = train_df['condition'].value_counts()[:10] # the top 10 conditions\n",
    "train_df.loc[train_df['condition'].isin(popCond.index),:] #extracting the data of the top 10 conditions"
   ]
  },
  {
   "cell_type": "code",
   "execution_count": 15,
   "id": "97a51721",
   "metadata": {
    "scrolled": true
   },
   "outputs": [
    {
     "data": {
      "image/png": "[encoded data removed]",
      "text/plain": [
       "<Figure size 432x288 with 1 Axes>"
      ]
     },
     "metadata": {
      "needs_background": "light"
     },
     "output_type": "display_data"
    }
   ],
   "source": [
    "#plotting the top 10 conditions\n",
    "popCond.plot(kind = 'bar')\n",
    "plt.title('Common Conditions')\n",
    "plt.show()"
   ]
  },
  {
   "cell_type": "code",
   "execution_count": 16,
   "id": "c92faa6f",
   "metadata": {},
   "outputs": [
    {
     "data": {
      "text/plain": [
       "condition\n",
       "Not Listed / Othe       214\n",
       "Pain                    200\n",
       "Birth Control           172\n",
       "High Blood Pressure     140\n",
       "Acne                    117\n",
       "Depression              105\n",
       "Rheumatoid Arthritis     98\n",
       "Diabetes, Type 2         89\n",
       "Allergic Rhinitis        88\n",
       "Bipolar Disorde          80\n",
       "Name: drugName, dtype: int64"
      ]
     },
     "execution_count": 16,
     "metadata": {},
     "output_type": "execute_result"
    }
   ],
   "source": [
    "train_df.groupby('condition')['drugName'].nunique().nlargest(10) # Number of drugs reviewed for each condition"
   ]
  },
  {
   "cell_type": "markdown",
   "id": "5d12c1eb",
   "metadata": {},
   "source": [
    "#### Binning the 'rating' variable into 3 bins"
   ]
  },
  {
   "cell_type": "code",
   "execution_count": 17,
   "id": "8542b59c",
   "metadata": {},
   "outputs": [],
   "source": [
    "train_df['rating_bin']=pd.cut(x=train_df['rating'], bins=[0,3,7,10], #to bin the variable rating into 3 categories\n",
    "                        labels=[\"bad\", \" moderate\", \"good\"])\n",
    "test_df['rating_bin']=pd.cut(x=test_df['rating'], bins=[0,3,7,10], #to bin the variable rating into 3 categories\n",
    "                        labels=[\"bad\", \" moderate\", \"good\"])"
   ]
  },
  {
   "cell_type": "markdown",
   "id": "22301a9d",
   "metadata": {},
   "source": [
    "#### Proportion of each class in the training set"
   ]
  },
  {
   "cell_type": "code",
   "execution_count": 41,
   "id": "32015a33",
   "metadata": {},
   "outputs": [
    {
     "data": {
      "image/png": "[encoded data removed]",
      "text/plain": [
       "<Figure size 432x288 with 1 Axes>"
      ]
     },
     "metadata": {
      "needs_background": "light"
     },
     "output_type": "display_data"
    }
   ],
   "source": [
    "train_df['rating_bin'].value_counts().plot(kind = 'bar')\n",
    "plt.title('Proportion of each class')\n",
    "plt.show()"
   ]
  },
  {
   "cell_type": "markdown",
   "id": "8585af78",
   "metadata": {},
   "source": [
    "#### Extracting data that is required for the analysis (the reviews and the ratings)"
   ]
  },
  {
   "cell_type": "code",
   "execution_count": 18,
   "id": "1b2f8a79",
   "metadata": {},
   "outputs": [],
   "source": [
    "X_train = train_df['review']\n",
    "y_train = train_df['rating_bin']\n",
    "X_test = test_df['review']\n",
    "y_test = test_df['rating_bin']"
   ]
  },
  {
   "cell_type": "markdown",
   "id": "69f32f64",
   "metadata": {},
   "source": [
    "#### Splitting the training set into training and validation set"
   ]
  },
  {
   "cell_type": "code",
   "execution_count": 19,
   "id": "88ec8d29",
   "metadata": {},
   "outputs": [],
   "source": [
    "X_train, X_valid, y_train, y_valid = train_test_split(X_train, y_train, test_size=0.2, random_state=0) #splits into training and testing based on the test_size given"
   ]
  },
  {
   "cell_type": "markdown",
   "id": "dd5409f7",
   "metadata": {},
   "source": [
    "#### Proportion of each class in the validation set"
   ]
  },
  {
   "cell_type": "code",
   "execution_count": 44,
   "id": "b68d7c32",
   "metadata": {},
   "outputs": [
    {
     "data": {
      "image/png": "[encoded data removed]",
      "text/plain": [
       "<Figure size 432x288 with 1 Axes>"
      ]
     },
     "metadata": {
      "needs_background": "light"
     },
     "output_type": "display_data"
    }
   ],
   "source": [
    "y_valid.value_counts().plot(kind = 'bar')\n",
    "plt.title('Proportion of each class')\n",
    "plt.show()"
   ]
  },
  {
   "cell_type": "markdown",
   "id": "b6d56467",
   "metadata": {},
   "source": [
    "#### TF-IDF vectorizer for the reviews column\n",
    "The reviews column after being vectorized becomes the variables to build the classifier model."
   ]
  },
  {
   "cell_type": "code",
   "execution_count": 121,
   "id": "35208cba",
   "metadata": {},
   "outputs": [],
   "source": [
    "#TF-IDF VECTORIZER ON THE DATASET\n",
    "vectorizer = TfidfVectorizer(analyzer='word',stop_words= 'english',ngram_range=(1,2)) #initialising the TF-IDF transformation\n",
    "\n",
    "x_train_vectors = vectorizer.fit_transform(X_train) #fitting and transforming the train set\n",
    "x_valid_vectors = vectorizer.transform(X_valid) # based on the training set, the validation set is transformed\n",
    "x_test_vectors = vectorizer.transform(X_test) #based on the training set, the testing set is transformed\n",
    "\n",
    "selector = SelectKBest(f_classif, k=min(1000, x_train_vectors.shape[1])) #choosing the k best terms for the reviews\n",
    "selector.fit(x_train_vectors, y_train)\n",
    "x_train_vectors = selector.transform(x_train_vectors).astype('float32')\n",
    "\n",
    "x_valid_vectors = selector.transform(x_valid_vectors).astype('float32')\n",
    "x_test_vectors = selector.transform(x_test_vectors).astype('float32')"
   ]
  },
  {
   "cell_type": "markdown",
   "id": "27d896dc",
   "metadata": {},
   "source": [
    "### Classification Models"
   ]
  },
  {
   "cell_type": "code",
   "execution_count": 94,
   "id": "361c4afd",
   "metadata": {},
   "outputs": [],
   "source": [
    "def model_run_clf(model, train, val, train_y, val_y): #a function to run the classifier model --> similar style for multiple questions so I created a function\n",
    "    clf = model.fit(train, train_y) #fitting the model\n",
    "    predVal = clf.predict(val) #predicting using the validation set\n",
    "    print('The training accuracy is ', model.score(train, train_y)) #training accuracy calculated using the score function\n",
    "    print('The validation accuracy is ', model.score(val, val_y)) #validation accuracy calculated using the score function\n",
    "    print('The balanced accuracy is',balanced_accuracy_score(val_y,predVal))#balanced accuracy for validation set\n",
    "    cm = confusion_matrix(val_y, predVal) #confusion matrix\n",
    "    print('\\nThe confusion matrix:\\n',cm)\n",
    "    sns.heatmap(cm, annot = True, fmt='g')\n",
    "    plt.show()\n",
    "    print('\\nThe performance metrics for the Validation data:\\n',classification_report(val_y, predVal))"
   ]
  },
  {
   "cell_type": "markdown",
   "id": "a64610f3",
   "metadata": {},
   "source": [
    "I will be trying 7 classifiers and try to improve the performance of the two best classifiers through various methods."
   ]
  },
  {
   "cell_type": "markdown",
   "id": "1e6cff9b",
   "metadata": {},
   "source": [
    "### 1. Multinomial Naive Bayes Classifier"
   ]
  },
  {
   "cell_type": "code",
   "execution_count": 22,
   "id": "e6620536",
   "metadata": {
    "scrolled": true
   },
   "outputs": [
    {
     "name": "stdout",
     "output_type": "stream",
     "text": [
      "The training accuracy is  0.6206901896355309\n",
      "The validation accuracy is  0.6225046497210167\n",
      "The balanced accuracy is 0.3635252190984493\n",
      "\n",
      "The confusion matrix:\n",
      " [[    6    95  5658]\n",
      " [    3   639  6398]\n",
      " [    0    24 19437]]\n"
     ]
    },
    {
     "data": {
      "image/png": "[encoded data removed]",
      "text/plain": [
       "<Figure size 432x288 with 2 Axes>"
      ]
     },
     "metadata": {
      "needs_background": "light"
     },
     "output_type": "display_data"
    },
    {
     "name": "stdout",
     "output_type": "stream",
     "text": [
      "\n",
      "The performance metrics for the Validation data:\n",
      "               precision    recall  f1-score   support\n",
      "\n",
      "    moderate       0.67      0.00      0.00      5759\n",
      "         bad       0.84      0.09      0.16      7040\n",
      "        good       0.62      1.00      0.76     19461\n",
      "\n",
      "    accuracy                           0.62     32260\n",
      "   macro avg       0.71      0.36      0.31     32260\n",
      "weighted avg       0.68      0.62      0.50     32260\n",
      "\n"
     ]
    }
   ],
   "source": [
    "nb = MultinomialNB().fit(x_train_vectors, y_train) #initializing the classifier\n",
    "model_run_clf(nb, x_train_vectors, x_valid_vectors, y_train, y_valid) #calling the function for the other processes"
   ]
  },
  {
   "cell_type": "markdown",
   "id": "eb5882f5",
   "metadata": {},
   "source": [
    "**NOTES:** \n",
    "Although the training accuracy and validation accuracy is around 62%, the balanced accuracy value id very low 36%. From the confusion matrix and the plot, we can see that class 2 (\"good\" rating - 7 to 10) has been predicted well but the other classes haven't been. Most of the prediction seem to be class 2 and class 0 and 1 have very low numbers. This model is definitely not doing well."
   ]
  },
  {
   "cell_type": "markdown",
   "id": "669c3755",
   "metadata": {},
   "source": [
    "### 2. Logistic Regression"
   ]
  },
  {
   "cell_type": "code",
   "execution_count": 23,
   "id": "e4ecb3fc",
   "metadata": {},
   "outputs": [
    {
     "name": "stdout",
     "output_type": "stream",
     "text": [
      "The training accuracy is  0.7215837317978564\n",
      "The validation accuracy is  0.7181959082455053\n",
      "The balanced accuracy is 0.5573514752741929\n",
      "\n",
      "The confusion matrix:\n",
      " [[  850  1255  3654]\n",
      " [  470  4165  2405]\n",
      " [  425   882 18154]]\n"
     ]
    },
    {
     "data": {
      "image/png": "[encoded data removed]",
      "text/plain": [
       "<Figure size 432x288 with 2 Axes>"
      ]
     },
     "metadata": {
      "needs_background": "light"
     },
     "output_type": "display_data"
    },
    {
     "name": "stdout",
     "output_type": "stream",
     "text": [
      "\n",
      "The performance metrics for the Validation data:\n",
      "               precision    recall  f1-score   support\n",
      "\n",
      "    moderate       0.49      0.15      0.23      5759\n",
      "         bad       0.66      0.59      0.62      7040\n",
      "        good       0.75      0.93      0.83     19461\n",
      "\n",
      "    accuracy                           0.72     32260\n",
      "   macro avg       0.63      0.56      0.56     32260\n",
      "weighted avg       0.68      0.72      0.68     32260\n",
      "\n"
     ]
    }
   ],
   "source": [
    "clf = LogisticRegression() #initialising the classifier\n",
    "model_run_clf(clf, x_train_vectors, x_valid_vectors, y_train, y_valid) #calling the function for the other processes"
   ]
  },
  {
   "cell_type": "markdown",
   "id": "3094a701",
   "metadata": {},
   "source": [
    "**NOTES:**\n",
    "This model is better than previous model but not the best. The training and validation accuracy are around 9% higher with values aorund 72%. The balanced accurcy is low at 55% here as well but it is better than the previous model. The class 2 is predicted really well here as well but the other classes have better metric values for this model than the previous one. "
   ]
  },
  {
   "cell_type": "markdown",
   "id": "071ea212",
   "metadata": {},
   "source": [
    "### 3. Decision Tree Classifier"
   ]
  },
  {
   "cell_type": "code",
   "execution_count": 24,
   "id": "c610c8f1",
   "metadata": {
    "scrolled": true
   },
   "outputs": [
    {
     "name": "stdout",
     "output_type": "stream",
     "text": [
      "The training accuracy is  0.7034338988042189\n",
      "The validation accuracy is  0.6479851208927464\n",
      "The balanced accuracy is 0.5052082740627578\n",
      "\n",
      "The confusion matrix:\n",
      " [[  937  1432  3390]\n",
      " [  561  3606  2873]\n",
      " [ 1166  1934 16361]]\n"
     ]
    },
    {
     "data": {
      "image/png": "[encoded data removed]",
      "text/plain": [
       "<Figure size 432x288 with 2 Axes>"
      ]
     },
     "metadata": {
      "needs_background": "light"
     },
     "output_type": "display_data"
    },
    {
     "name": "stdout",
     "output_type": "stream",
     "text": [
      "\n",
      "The performance metrics for the Validation data:\n",
      "               precision    recall  f1-score   support\n",
      "\n",
      "    moderate       0.35      0.16      0.22      5759\n",
      "         bad       0.52      0.51      0.51      7040\n",
      "        good       0.72      0.84      0.78     19461\n",
      "\n",
      "    accuracy                           0.65     32260\n",
      "   macro avg       0.53      0.51      0.50     32260\n",
      "weighted avg       0.61      0.65      0.62     32260\n",
      "\n"
     ]
    }
   ],
   "source": [
    "clf = DecisionTreeClassifier(min_samples_split=1000) #initialsing the classifier\n",
    "model_run_clf(clf, x_train_vectors, x_valid_vectors, y_train, y_valid) #calling the function for the other processes"
   ]
  },
  {
   "cell_type": "markdown",
   "id": "0ac70173",
   "metadata": {},
   "source": [
    "**NOTES:** \n",
    "This model seems to be performing better than Multinomial Naive Bayes model but not better than the Logistic regression model. The validation accuracy is 64% which is not the best value and the balanced accuracy is also low at 50%. Again, the class 2 has been predicted well, although not as well as the previous models. "
   ]
  },
  {
   "cell_type": "markdown",
   "id": "b9749520",
   "metadata": {},
   "source": [
    "### 4. Random Forest Classifier"
   ]
  },
  {
   "cell_type": "code",
   "execution_count": 25,
   "id": "0d78b051",
   "metadata": {},
   "outputs": [
    {
     "name": "stdout",
     "output_type": "stream",
     "text": [
      "The training accuracy is  0.7373854010865101\n",
      "The validation accuracy is  0.6993800371977681\n",
      "The balanced accuracy is 0.5036394233732759\n",
      "\n",
      "The confusion matrix:\n",
      " [[  126  1082  4551]\n",
      " [   27  3708  3305]\n",
      " [   26   707 18728]]\n"
     ]
    },
    {
     "data": {
      "image/png": "[encoded data removed]",
      "text/plain": [
       "<Figure size 432x288 with 2 Axes>"
      ]
     },
     "metadata": {
      "needs_background": "light"
     },
     "output_type": "display_data"
    },
    {
     "name": "stdout",
     "output_type": "stream",
     "text": [
      "\n",
      "The performance metrics for the Validation data:\n",
      "               precision    recall  f1-score   support\n",
      "\n",
      "    moderate       0.70      0.02      0.04      5759\n",
      "         bad       0.67      0.53      0.59      7040\n",
      "        good       0.70      0.96      0.81     19461\n",
      "\n",
      "    accuracy                           0.70     32260\n",
      "   macro avg       0.69      0.50      0.48     32260\n",
      "weighted avg       0.70      0.70      0.63     32260\n",
      "\n"
     ]
    }
   ],
   "source": [
    "clf = RandomForestClassifier(min_samples_split=500) #initialising the classifier\n",
    "model_run_clf(clf, x_train_vectors, x_valid_vectors, y_train, y_valid) #calling the function for the other processes"
   ]
  },
  {
   "cell_type": "markdown",
   "id": "235a1160",
   "metadata": {},
   "source": [
    "**NOTES:** \n",
    "This model has around 70% training and validation accuracy which is not bad but the balanced accuracy is low at 50%. Again, class 2 is predicted well but the other classes aren't especially, class 1 (\"moderate\" ratings), has a very low recall and f1-score."
   ]
  },
  {
   "cell_type": "markdown",
   "id": "28836607",
   "metadata": {},
   "source": [
    "### 5. Gradient Boosting Classifier"
   ]
  },
  {
   "cell_type": "code",
   "execution_count": 26,
   "id": "2ae09a9e",
   "metadata": {},
   "outputs": [
    {
     "name": "stdout",
     "output_type": "stream",
     "text": [
      "The training accuracy is  0.6635151158194936\n",
      "The validation accuracy is  0.6611593304401736\n",
      "The balanced accuracy is 0.43882832732756766\n",
      "\n",
      "The confusion matrix:\n",
      " [[  250   551  4958]\n",
      " [  124  2095  4821]\n",
      " [   92   385 18984]]\n"
     ]
    },
    {
     "data": {
      "image/png": "[encoded data removed]",
      "text/plain": [
       "<Figure size 432x288 with 2 Axes>"
      ]
     },
     "metadata": {
      "needs_background": "light"
     },
     "output_type": "display_data"
    },
    {
     "name": "stdout",
     "output_type": "stream",
     "text": [
      "\n",
      "The performance metrics for the Validation data:\n",
      "               precision    recall  f1-score   support\n",
      "\n",
      "    moderate       0.54      0.04      0.08      5759\n",
      "         bad       0.69      0.30      0.42      7040\n",
      "        good       0.66      0.98      0.79     19461\n",
      "\n",
      "    accuracy                           0.66     32260\n",
      "   macro avg       0.63      0.44      0.43     32260\n",
      "weighted avg       0.64      0.66      0.58     32260\n",
      "\n"
     ]
    }
   ],
   "source": [
    "clf = GradientBoostingClassifier(min_samples_split=1000) #initialising the classifier\n",
    "model_run_clf(clf, x_train_vectors, x_valid_vectors, y_train, y_valid)#calling the function for the other processes"
   ]
  },
  {
   "cell_type": "markdown",
   "id": "478d1582",
   "metadata": {},
   "source": [
    "**NOTES:** \n",
    "For this model, the training and validation accuracy are okay but the balanced accuracy is pretty low 43% (the second lowest followed by Mulitnomial NB classifier). Class 2 is predicted well but the other classes aren't. "
   ]
  },
  {
   "cell_type": "markdown",
   "id": "106b9062",
   "metadata": {},
   "source": [
    "### 6. Bagging Classifier"
   ]
  },
  {
   "cell_type": "code",
   "execution_count": 27,
   "id": "8b04ef9b",
   "metadata": {
    "scrolled": true
   },
   "outputs": [
    {
     "name": "stdout",
     "output_type": "stream",
     "text": [
      "The training accuracy is  0.9914210652758512\n",
      "The validation accuracy is  0.7966831990080595\n",
      "The balanced accuracy is 0.7338543012172439\n",
      "\n",
      "The confusion matrix:\n",
      " [[ 3385   735  1639]\n",
      " [  636  5152  1252]\n",
      " [ 1166  1131 17164]]\n"
     ]
    },
    {
     "data": {
      "image/png": "[encoded data removed]",
      "text/plain": [
       "<Figure size 432x288 with 2 Axes>"
      ]
     },
     "metadata": {
      "needs_background": "light"
     },
     "output_type": "display_data"
    },
    {
     "name": "stdout",
     "output_type": "stream",
     "text": [
      "\n",
      "The performance metrics for the Validation data:\n",
      "               precision    recall  f1-score   support\n",
      "\n",
      "    moderate       0.65      0.59      0.62      5759\n",
      "         bad       0.73      0.73      0.73      7040\n",
      "        good       0.86      0.88      0.87     19461\n",
      "\n",
      "    accuracy                           0.80     32260\n",
      "   macro avg       0.75      0.73      0.74     32260\n",
      "weighted avg       0.79      0.80      0.79     32260\n",
      "\n"
     ]
    }
   ],
   "source": [
    "clf = BaggingClassifier(n_jobs=-1) #initialising the classifier\n",
    "model_run_clf(clf, x_train_vectors, x_valid_vectors, y_train, y_valid) #calling the function for the other processes"
   ]
  },
  {
   "cell_type": "markdown",
   "id": "aa8ac626",
   "metadata": {},
   "source": [
    "**NOTES:**\n",
    "This has been the best model so far with validation accuracy at 80% and balanced accuracy at 73%, the highest so far. This is also the only model that predicted class 0 and 1 well along with class 2. This model seems to be overfitting with training accuracy at 99% and the validation at 80%. This is still the best model so far and hence this issue can be addressed during parameter optimization."
   ]
  },
  {
   "cell_type": "markdown",
   "id": "87b2701f",
   "metadata": {},
   "source": [
    "### 7. AdaBoost Classifier"
   ]
  },
  {
   "cell_type": "code",
   "execution_count": 76,
   "id": "3356894f",
   "metadata": {},
   "outputs": [
    {
     "name": "stdout",
     "output_type": "stream",
     "text": [
      "The training accuracy is  0.6613761944248548\n",
      "The validation accuracy is  0.6619962802231866\n",
      "The balanced accuracy is 0.46966206017928963\n",
      "\n",
      "The confusion matrix:\n",
      " [[  184  1221  4354]\n",
      " [  128  3189  3723]\n",
      " [  172  1306 17983]]\n"
     ]
    },
    {
     "data": {
      "image/png": "[encoded data removed]",
      "text/plain": [
       "<Figure size 432x288 with 2 Axes>"
      ]
     },
     "metadata": {
      "needs_background": "light"
     },
     "output_type": "display_data"
    },
    {
     "name": "stdout",
     "output_type": "stream",
     "text": [
      "\n",
      "The performance metrics for the Validation data:\n",
      "               precision    recall  f1-score   support\n",
      "\n",
      "    moderate       0.38      0.03      0.06      5759\n",
      "         bad       0.56      0.45      0.50      7040\n",
      "        good       0.69      0.92      0.79     19461\n",
      "\n",
      "    accuracy                           0.66     32260\n",
      "   macro avg       0.54      0.47      0.45     32260\n",
      "weighted avg       0.61      0.66      0.60     32260\n",
      "\n"
     ]
    }
   ],
   "source": [
    "clf = AdaBoostClassifier() #initialising the classifier\n",
    "model_run_clf(clf, x_train_vectors, x_valid_vectors, y_train, y_valid)#calling the function for the other processes"
   ]
  },
  {
   "cell_type": "markdown",
   "id": "d600581c",
   "metadata": {},
   "source": [
    "**NOTES:** This model didn't do well either. The accuracies for training and validation are around 66% and thr balanced accuracy is pretty low at 46%. In this model, class 2 is predicted well and class 0 (\"bad\" rating) is also okay but class 1 is predicted pretty bad."
   ]
  },
  {
   "cell_type": "markdown",
   "id": "3f50f18c",
   "metadata": {},
   "source": [
    "### Two best Classifier models\n",
    "The two best classifiers from above are **Bagging classifier** and **Logistic Regression**. To improve these models, we can do\n",
    "* Parameter Optimization\n",
    "* Removing Outliers\n",
    "* PCA could help make it faster, although not more accurate"
   ]
  },
  {
   "cell_type": "markdown",
   "id": "4ceb64e1",
   "metadata": {},
   "source": [
    "### Parameter Optimization"
   ]
  },
  {
   "cell_type": "markdown",
   "id": "99b5e008",
   "metadata": {},
   "source": [
    "### Logistic Regression"
   ]
  },
  {
   "cell_type": "code",
   "execution_count": 165,
   "id": "c5962ccc",
   "metadata": {
    "scrolled": false
   },
   "outputs": [
    {
     "name": "stdout",
     "output_type": "stream",
     "text": [
      "LogisticRegression(C=1, max_iter=1000, multi_class='multinomial', penalty='l1',\n",
      "                   solver='saga')\n",
      "The training accuracy is  0.7273185210443516\n",
      "The validation accuracy is  0.7220086794792312\n",
      "The balanced accuracy is 0.5731728548539371\n",
      "\n",
      "The confusion matrix:\n",
      " [[ 1036  1345  3378]\n",
      " [  558  4368  2114]\n",
      " [  583   990 17888]]\n"
     ]
    },
    {
     "data": {
      "image/png": "[encoded data removed]",
      "text/plain": [
       "<Figure size 432x288 with 2 Axes>"
      ]
     },
     "metadata": {
      "needs_background": "light"
     },
     "output_type": "display_data"
    },
    {
     "name": "stdout",
     "output_type": "stream",
     "text": [
      "\n",
      "The performance metrics for the Validation data:\n",
      "               precision    recall  f1-score   support\n",
      "\n",
      "    moderate       0.48      0.18      0.26      5759\n",
      "         bad       0.65      0.62      0.64      7040\n",
      "        good       0.77      0.92      0.84     19461\n",
      "\n",
      "    accuracy                           0.72     32260\n",
      "   macro avg       0.63      0.57      0.58     32260\n",
      "weighted avg       0.69      0.72      0.69     32260\n",
      "\n"
     ]
    }
   ],
   "source": [
    "warnings.filterwarnings(action='ignore')\n",
    "estimator = LogisticRegression(multi_class = 'multinomial', solver = 'saga', max_iter = 1000)\n",
    "parameters = {'C': [0.1, 0.2, 0.3, 0.4, 0.5, 0.6, 0.7, 0.8, 0.9, 1],\n",
    "              'penalty': ['l1', 'l2', 'elasticnet']} #parameters to test\n",
    "clf = GridSearchCV(estimator, parameters, cv = 3, scoring = 'balanced_accuracy', n_jobs = -1) #grid search with 3 fold cv that check all the possible parameter values\n",
    "clf.fit(x_train_vectors, y_train)\n",
    "print(clf.best_estimator_) #the best model\n",
    "model_run_clf(clf.best_estimator_, x_train_vectors, x_valid_vectors, y_train, y_valid) #rest of the process for the best model"
   ]
  },
  {
   "cell_type": "markdown",
   "id": "0140298d",
   "metadata": {},
   "source": [
    "**NOTES:** This did not improve the model at all."
   ]
  },
  {
   "cell_type": "markdown",
   "id": "975eaba1",
   "metadata": {},
   "source": [
    "### Bagging Classifier"
   ]
  },
  {
   "cell_type": "code",
   "execution_count": 168,
   "id": "f76c4df9",
   "metadata": {},
   "outputs": [
    {
     "name": "stdout",
     "output_type": "stream",
     "text": [
      "No. of estimators =  10\n",
      "The training accuracy is  0.9913048195478816\n",
      "The validation accuracy is  0.7974891506509609\n",
      "The balanced accuracy is 0.7373468480952777\n",
      "\n",
      "The confusion matrix:\n",
      " [[ 3396   764  1599]\n",
      " [  607  5238  1195]\n",
      " [ 1176  1192 17093]]\n"
     ]
    },
    {
     "data": {
      "image/png": "[encoded data removed]",
      "text/plain": [
       "<Figure size 432x288 with 2 Axes>"
      ]
     },
     "metadata": {
      "needs_background": "light"
     },
     "output_type": "display_data"
    },
    {
     "name": "stdout",
     "output_type": "stream",
     "text": [
      "\n",
      "The performance metrics for the Validation data:\n",
      "               precision    recall  f1-score   support\n",
      "\n",
      "    moderate       0.66      0.59      0.62      5759\n",
      "         bad       0.73      0.74      0.74      7040\n",
      "        good       0.86      0.88      0.87     19461\n",
      "\n",
      "    accuracy                           0.80     32260\n",
      "   macro avg       0.75      0.74      0.74     32260\n",
      "weighted avg       0.79      0.80      0.80     32260\n",
      "\n",
      "No. of estimators =  20\n",
      "The training accuracy is  0.9964351310089354\n",
      "The validation accuracy is  0.8116862988220707\n",
      "The balanced accuracy is 0.7447103524294234\n",
      "\n",
      "The confusion matrix:\n",
      " [[ 3379   708  1672]\n",
      " [  513  5245  1282]\n",
      " [  861  1039 17561]]\n"
     ]
    },
    {
     "data": {
      "image/png": "[encoded data removed]",
      "text/plain": [
       "<Figure size 432x288 with 2 Axes>"
      ]
     },
     "metadata": {
      "needs_background": "light"
     },
     "output_type": "display_data"
    },
    {
     "name": "stdout",
     "output_type": "stream",
     "text": [
      "\n",
      "The performance metrics for the Validation data:\n",
      "               precision    recall  f1-score   support\n",
      "\n",
      "    moderate       0.71      0.59      0.64      5759\n",
      "         bad       0.75      0.75      0.75      7040\n",
      "        good       0.86      0.90      0.88     19461\n",
      "\n",
      "    accuracy                           0.81     32260\n",
      "   macro avg       0.77      0.74      0.76     32260\n",
      "weighted avg       0.81      0.81      0.81     32260\n",
      "\n",
      "No. of estimators =  30\n",
      "The training accuracy is  0.9978068305989755\n",
      "The validation accuracy is  0.8115003099814011\n",
      "The balanced accuracy is 0.7434605475532985\n",
      "\n",
      "The confusion matrix:\n",
      " [[ 3316   701  1742]\n",
      " [  468  5292  1280]\n",
      " [  912   978 17571]]\n"
     ]
    },
    {
     "data": {
      "image/png": "[encoded data removed]",
      "text/plain": [
       "<Figure size 432x288 with 2 Axes>"
      ]
     },
     "metadata": {
      "needs_background": "light"
     },
     "output_type": "display_data"
    },
    {
     "name": "stdout",
     "output_type": "stream",
     "text": [
      "\n",
      "The performance metrics for the Validation data:\n",
      "               precision    recall  f1-score   support\n",
      "\n",
      "    moderate       0.71      0.58      0.63      5759\n",
      "         bad       0.76      0.75      0.76      7040\n",
      "        good       0.85      0.90      0.88     19461\n",
      "\n",
      "    accuracy                           0.81     32260\n",
      "   macro avg       0.77      0.74      0.76     32260\n",
      "weighted avg       0.81      0.81      0.81     32260\n",
      "\n",
      "No. of estimators =  40\n",
      "The training accuracy is  0.9980858203461023\n",
      "The validation accuracy is  0.8183199008059516\n",
      "The balanced accuracy is 0.7484613912539034\n",
      "\n",
      "The confusion matrix:\n",
      " [[ 3324   660  1775]\n",
      " [  414  5322  1304]\n",
      " [  705  1003 17753]]\n"
     ]
    },
    {
     "data": {
      "image/png": "[encoded data removed]",
      "text/plain": [
       "<Figure size 432x288 with 2 Axes>"
      ]
     },
     "metadata": {
      "needs_background": "light"
     },
     "output_type": "display_data"
    },
    {
     "name": "stdout",
     "output_type": "stream",
     "text": [
      "\n",
      "The performance metrics for the Validation data:\n",
      "               precision    recall  f1-score   support\n",
      "\n",
      "    moderate       0.75      0.58      0.65      5759\n",
      "         bad       0.76      0.76      0.76      7040\n",
      "        good       0.85      0.91      0.88     19461\n",
      "\n",
      "    accuracy                           0.82     32260\n",
      "   macro avg       0.79      0.75      0.76     32260\n",
      "weighted avg       0.81      0.82      0.81     32260\n",
      "\n"
     ]
    }
   ],
   "source": [
    "for i in range(10,50,10):\n",
    "    print('No. of estimators = ',i)\n",
    "    clf = BaggingClassifier(n_estimators = i, n_jobs=-1) #grid search takes too much time. So,I ran it manually\n",
    "    model_run_clf(clf, x_train_vectors, x_valid_vectors, y_train, y_valid)"
   ]
  },
  {
   "cell_type": "markdown",
   "id": "b1932c5a",
   "metadata": {},
   "source": [
    "**NOTES:** The model metrics improved for the n_estimators 20 from the default value n_estimators 10. After 20, there wasn't significant improvement that is worth the extra run time. So, I would say n_estimators = 20 is the best value."
   ]
  },
  {
   "cell_type": "markdown",
   "id": "3b880fe8",
   "metadata": {},
   "source": [
    "### Removing Outliers"
   ]
  },
  {
   "cell_type": "code",
   "execution_count": 66,
   "id": "c211c7e6",
   "metadata": {},
   "outputs": [
    {
     "name": "stdout",
     "output_type": "stream",
     "text": [
      "Number of outliers removed:  1291\n",
      "Number of outliers removed:  323\n"
     ]
    }
   ],
   "source": [
    "iso = IsolationForest(contamination=0.01)\n",
    "yhat = iso.fit_predict(x_train_vectors)\n",
    "mask = yhat != -1 #rows that are not outliers\n",
    "mask1 = yhat==(-1) #rows that are outliers\n",
    "print('Number of outliers removed: ', np.shape(x_train_vectors[mask1,:])[0])#Number of outliers\n",
    "X1, y1 = x_train_vectors[mask, :], y_train[mask] #removing the outliers from the dataset\n",
    "\n",
    "iso = IsolationForest(contamination=0.01)\n",
    "yhat = iso.fit_predict(x_valid_vectors)\n",
    "mask = yhat != -1 #rows that are not outliers\n",
    "mask1 = yhat==(-1) #rows that are outliers\n",
    "print('Number of outliers removed: ', np.shape(x_valid_vectors[mask1,:])[0])#Number of outliers\n",
    "X2, y2 = x_valid_vectors[mask, :], y_valid[mask] #removing the outliers from the dataset"
   ]
  },
  {
   "cell_type": "code",
   "execution_count": 67,
   "id": "03a8fd19",
   "metadata": {},
   "outputs": [
    {
     "name": "stdout",
     "output_type": "stream",
     "text": [
      "The training accuracy is  0.7212124058678941\n",
      "The validation accuracy is  0.718570936531296\n",
      "The balanced accuracy is 0.5556927674120744\n",
      "\n",
      "The confusion matrix:\n",
      " [[  804  1244  3630]\n",
      " [  448  4105  2382]\n",
      " [  399   885 18040]]\n"
     ]
    },
    {
     "data": {
      "image/png": "[encoded data removed]",
      "text/plain": [
       "<Figure size 432x288 with 2 Axes>"
      ]
     },
     "metadata": {
      "needs_background": "light"
     },
     "output_type": "display_data"
    },
    {
     "name": "stdout",
     "output_type": "stream",
     "text": [
      "\n",
      "The performance metrics for the Validation data:\n",
      "               precision    recall  f1-score   support\n",
      "\n",
      "    moderate       0.49      0.14      0.22      5678\n",
      "         bad       0.66      0.59      0.62      6935\n",
      "        good       0.75      0.93      0.83     19324\n",
      "\n",
      "    accuracy                           0.72     31937\n",
      "   macro avg       0.63      0.56      0.56     31937\n",
      "weighted avg       0.68      0.72      0.68     31937\n",
      "\n"
     ]
    }
   ],
   "source": [
    "clf = LogisticRegression() #initialising the classifier\n",
    "model_run_clf(clf, X1, X2, y1, y2) #rest of the process"
   ]
  },
  {
   "cell_type": "code",
   "execution_count": 147,
   "id": "4571eb4b",
   "metadata": {
    "scrolled": true
   },
   "outputs": [
    {
     "name": "stdout",
     "output_type": "stream",
     "text": [
      "The training accuracy is  0.9964539007092199\n",
      "The validation accuracy is  0.8082474872405048\n",
      "The balanced accuracy is 0.739208366989743\n",
      "\n",
      "The confusion matrix:\n",
      " [[ 3234   738  1706]\n",
      " [  483  5188  1264]\n",
      " [  872  1061 17391]]\n"
     ]
    },
    {
     "data": {
      "image/png": "[encoded data removed]",
      "text/plain": [
       "<Figure size 432x288 with 2 Axes>"
      ]
     },
     "metadata": {
      "needs_background": "light"
     },
     "output_type": "display_data"
    },
    {
     "name": "stdout",
     "output_type": "stream",
     "text": [
      "\n",
      "The performance metrics for the Validation data:\n",
      "               precision    recall  f1-score   support\n",
      "\n",
      "    moderate       0.70      0.57      0.63      5678\n",
      "         bad       0.74      0.75      0.75      6935\n",
      "        good       0.85      0.90      0.88     19324\n",
      "\n",
      "    accuracy                           0.81     31937\n",
      "   macro avg       0.77      0.74      0.75     31937\n",
      "weighted avg       0.80      0.81      0.80     31937\n",
      "\n"
     ]
    }
   ],
   "source": [
    "clf = BaggingClassifier(n_estimators = 20, n_jobs=-1)#initialising the classifier\n",
    "model_run_clf(clf, X1, X2, y1, y2) #rest of the process"
   ]
  },
  {
   "cell_type": "markdown",
   "id": "baf79b94",
   "metadata": {},
   "source": [
    "**NOTES:**\n",
    "Removing the outliers did not help much in either of the models."
   ]
  },
  {
   "cell_type": "markdown",
   "id": "27275c57",
   "metadata": {},
   "source": [
    "### PCA "
   ]
  },
  {
   "cell_type": "code",
   "execution_count": 143,
   "id": "d93fdc59",
   "metadata": {},
   "outputs": [
    {
     "name": "stdout",
     "output_type": "stream",
     "text": [
      "[0.02655158 0.04196609 0.05585487 0.06815713 0.07825279 0.08715349\n",
      " 0.09584489 0.10413608 0.11206235 0.11941882 0.12638874 0.13311174\n",
      " 0.13977446 0.14620099 0.15256024 0.1587669  0.16485333 0.17071829\n",
      " 0.17639658 0.18191765 0.18727904 0.19252529 0.19767559 0.20277871\n",
      " 0.20761535 0.21237478 0.21708893 0.22173246 0.2263056  0.23083536\n",
      " 0.23529485 0.23973551 0.24411545 0.2484326  0.2526991  0.25690937\n",
      " 0.26108406 0.26521547 0.26930839 0.27334836 0.27733014 0.28128676\n",
      " 0.28521611 0.28908737 0.29293095 0.29670578 0.30043842 0.30414477\n",
      " 0.30776891 0.31138708 0.31497819 0.31855257 0.32205737 0.32552822\n",
      " 0.32897174 0.33237163 0.33574324 0.33908538 0.34237718 0.34564044\n",
      " 0.34886247 0.35206808 0.35524906 0.35841386 0.36153163 0.36462078\n",
      " 0.36768583 0.37073783 0.37376575 0.37673565 0.37966556 0.38258823\n",
      " 0.38548421 0.38836502 0.39120651 0.39403394 0.39684595 0.39963648\n",
      " 0.40240193 0.40515461 0.40789853 0.41061617 0.41332883 0.41600319\n",
      " 0.41865419 0.42128517 0.42389289 0.42647561 0.42904744 0.43158095\n",
      " 0.43410994 0.4365897  0.43905818 0.44149172 0.44390389 0.44630398\n",
      " 0.44868289 0.45105111 0.45340764 0.45573473 0.45805451 0.46036463\n",
      " 0.46266709 0.4649625  0.46723949 0.46950813 0.47176741 0.47400127\n",
      " 0.47622384 0.47844324 0.48066027 0.4828519  0.48503274 0.48721199\n",
      " 0.48937104 0.49152608 0.49365517 0.49577981 0.49789588 0.50000454\n",
      " 0.50211046 0.50419332 0.50626607 0.5083325  0.51038525 0.51243029\n",
      " 0.51446609 0.51649183 0.51850936 0.52050586 0.52248877 0.52445501\n",
      " 0.52640794 0.52835479 0.53028795 0.53220692 0.53411577 0.53600225\n",
      " 0.53788397 0.53975673 0.54161616 0.54346591 0.54531327 0.54714748\n",
      " 0.54896591 0.55077179 0.55257504 0.5543552  0.55612992 0.55789688\n",
      " 0.55965569 0.56140296 0.56313929 0.56487197 0.56659657 0.56831917\n",
      " 0.57002681 0.57172835 0.57342683 0.5751087  0.57678043 0.57844862\n",
      " 0.58010706 0.58175852 0.58340613 0.58504429 0.58667683 0.58830075\n",
      " 0.5899188  0.59153094 0.59313927 0.59474055 0.59633212 0.59792007\n",
      " 0.59950469 0.60108296 0.6026538  0.60421162 0.60576144 0.60730563\n",
      " 0.60883716 0.61035895 0.61187401 0.61338753 0.61489258 0.61639076\n",
      " 0.61788274 0.61936738 0.62082653 0.62228439 0.62373813 0.62518239\n",
      " 0.62662399 0.62805727 0.62946905 0.63088025 0.63228735 0.63369014\n",
      " 0.63508671 0.63647451 0.6378569  0.63923498 0.64060279 0.64196747\n",
      " 0.64332549 0.64467691 0.64602111 0.64736157 0.64869614 0.65002031\n",
      " 0.65133668 0.65264947 0.65395684 0.65525431 0.65654948 0.65783881\n",
      " 0.6591263  0.66041031 0.66169078 0.66296669 0.66423939 0.66550729\n",
      " 0.66677436 0.66803988 0.6693025  0.67055779 0.67180499 0.67305016\n",
      " 0.67428995 0.67552664 0.67676096 0.67798833 0.67921362 0.68043427\n",
      " 0.68165218 0.68286189 0.68406842 0.68527264 0.68647479 0.68767492\n",
      " 0.68887191 0.69006582 0.69125715 0.69244129 0.69361975 0.69479253\n",
      " 0.69596018 0.69712523 0.69828668 0.69944363 0.70059926 0.7017513\n",
      " 0.70290218 0.70404744 0.70518821 0.70632725 0.70746211 0.70858925\n",
      " 0.70971548 0.71083861 0.71195942 0.71307766 0.7141903  0.71529921\n",
      " 0.716405   0.71750535 0.71859973 0.7196928  0.72078202 0.72186139\n",
      " 0.7229397  0.72401105 0.72508015 0.72614411 0.72720427 0.72826072\n",
      " 0.72931346 0.7303598  0.73140345 0.73244607 0.73348264 0.73451679\n",
      " 0.7355455  0.73656862 0.73758564 0.73860109 0.73961192 0.74061929\n",
      " 0.74162294 0.7426237  0.74362026 0.74461243 0.74560276 0.74659024\n",
      " 0.74757674 0.7485619  0.74954607 0.75052493 0.75150197 0.75247358\n",
      " 0.75344134 0.75440607 0.75537008 0.75633148 0.75729083 0.75824477\n",
      " 0.75919561 0.76014402 0.7610845  0.76202184 0.76295624 0.7638894\n",
      " 0.7648204  0.7657467  0.76666794 0.76758666 0.76850225 0.76941701\n",
      " 0.77032803 0.77123419 0.77213635 0.77303751 0.77393263 0.77482583\n",
      " 0.77571475 0.77659839 0.77747904 0.77835664 0.77922946 0.78010063\n",
      " 0.78096888 0.7818303  0.78268704 0.78354075 0.78439097 0.78524006\n",
      " 0.78608191 0.78691827 0.78775206 0.78858071 0.78940713 0.79023124\n",
      " 0.79105345 0.7918737  0.79269157 0.79350524 0.7943172  0.79512674\n",
      " 0.79593458 0.79673733 0.79753814 0.79833418 0.799126   0.79991591\n",
      " 0.80070323 0.80148843 0.80227232 0.80305362 0.80383116 0.80460482\n",
      " 0.8053775  0.80614815 0.80691642 0.80768295 0.80844717 0.80920936\n",
      " 0.80996921 0.81072798 0.81148417 0.81223953 0.81299287 0.81374207\n",
      " 0.81449051 0.8152365  0.81598097 0.81672201 0.8174622  0.81819972\n",
      " 0.81893385 0.81966698 0.82039826 0.82112591 0.82185023 0.82257058\n",
      " 0.82328915 0.82400413 0.82471606 0.82542271 0.82612908 0.82683278\n",
      " 0.8275346  0.82823519 0.82893384 0.82962911 0.83032077 0.83100813\n",
      " 0.83169446 0.83238013 0.83306004 0.8337351  0.83440785 0.8350773\n",
      " 0.83574217 0.83640283 0.83705953 0.83771469 0.83836606 0.839016\n",
      " 0.83966421 0.84030939 0.84095231 0.84159307 0.84223149 0.84286422\n",
      " 0.84349363 0.84412202 0.84474759 0.84537101 0.84599293 0.84661143\n",
      " 0.84722914 0.84784284 0.84845311 0.84906176 0.84966947 0.85027573\n",
      " 0.85087947 0.85148163 0.85208289 0.8526818  0.85327794 0.85387217\n",
      " 0.85446547 0.85505588 0.85564109 0.85621905 0.8567925  0.85736335\n",
      " 0.85793322 0.85850037 0.85906465 0.85962771 0.8601894  0.86074924\n",
      " 0.86130641 0.86186274 0.86241689 0.86296774 0.86351653 0.86406271\n",
      " 0.86460764 0.86515123 0.86569227 0.86623259 0.86676911 0.86730419\n",
      " 0.86783705 0.86836699 0.86889663 0.86942467 0.8699473  0.8704694\n",
      " 0.87098992 0.87150912 0.87202742 0.872545   0.87306092 0.87357523\n",
      " 0.87408813 0.87459938 0.87511001 0.87561929 0.87612798 0.87663561\n",
      " 0.87714002 0.87764134 0.8781421  0.87864088 0.87913938 0.87963557\n",
      " 0.88013143 0.88062628 0.88111976 0.88161143 0.88210189 0.88259098\n",
      " 0.88307758 0.88356327 0.88404564 0.88452734 0.88500705 0.88548465\n",
      " 0.88596104 0.88643572 0.88690854 0.88737927 0.88784887 0.88831778\n",
      " 0.88878647 0.889254   0.88971989 0.89018551 0.89064813 0.89111003\n",
      " 0.89156959 0.89202873 0.89248748 0.89294429 0.89340047 0.89385363\n",
      " 0.894306   0.89475635 0.89520579 0.89565386 0.89610083 0.8965474\n",
      " 0.89699296 0.89743581 0.89787782 0.8983179  0.89875721 0.89919531\n",
      " 0.89963182 0.90006596 0.90049974 0.90093219 0.90136267 0.90179168\n",
      " 0.90221998 0.90264707 0.90307345 0.90349831 0.9039214  0.90434417\n",
      " 0.90476608 0.90518654 0.90560647 0.90602529 0.9064434  0.9068609\n",
      " 0.90727608 0.90769056 0.90810367 0.90851521 0.90892571 0.90933504\n",
      " 0.90974262 0.91014912 0.91055388 0.9109584  0.91136026 0.91176149\n",
      " 0.91216234 0.91256248 0.91296115 0.91335824 0.91375257 0.91414552\n",
      " 0.91453798 0.91492964 0.9153191  0.91570785 0.91609573 0.9164822\n",
      " 0.91686807 0.91725293 0.917636   0.918018   0.91839948 0.91878082\n",
      " 0.91916    0.9195381  0.9199153  0.92029159 0.92066738 0.92104131\n",
      " 0.92141467 0.92178729 0.92215843 0.92252764 0.92289607 0.92326355\n",
      " 0.92363002 0.92399499 0.9243594  0.9247237  0.92508659 0.92544884\n",
      " 0.92581016 0.92617024 0.92652844 0.92688524 0.92724051 0.92759534\n",
      " 0.92794858 0.92830122 0.92865185 0.92900129 0.9293501  0.9296982\n",
      " 0.93004523 0.93039133 0.93073668 0.93108026 0.93142335 0.93176597\n",
      " 0.9321067  0.93244623 0.93278529 0.93312299 0.93345821 0.93379099\n",
      " 0.93412325 0.93445444 0.93478444 0.93511336 0.9354411  0.93576703\n",
      " 0.93609277 0.9364172  0.93674051 0.93706333 0.93738457 0.9377051\n",
      " 0.93802509 0.93834408 0.93866166 0.9389784  0.93929393 0.93960887\n",
      " 0.93992247 0.94023389 0.94054497 0.94085565 0.94116562 0.94147495\n",
      " 0.94178271 0.94208878 0.94239378 0.94269835 0.94300203 0.94330522\n",
      " 0.94360787 0.94391025 0.94421217 0.94451333 0.94481416 0.94511382\n",
      " 0.94541281 0.94571116 0.94600922 0.94630579 0.94660133 0.94689566\n",
      " 0.94718925 0.94748196 0.94777416 0.94806588 0.94835712 0.94864773\n",
      " 0.94893705 0.94922576 0.94951429 0.94980239 0.95008977 0.95037639\n",
      " 0.95066206 0.95094759 0.95123295 0.95151687 0.95180064 0.95208246\n",
      " 0.95236349 0.95264295 0.95292224 0.95320056 0.95347843 0.95375518\n",
      " 0.95403127 0.9543069  0.95458134 0.95485555 0.95512945 0.95540254\n",
      " 0.9556748  0.9559454  0.95621536 0.95648491 0.95675293 0.95701942\n",
      " 0.95728559 0.95755051 0.95781499 0.95807911 0.95834268 0.95860467\n",
      " 0.95886643 0.95912689 0.95938623 0.95964531 0.95990329 0.96016085\n",
      " 0.96041744 0.96067307 0.96092847 0.96118315 0.96143713 0.96169097\n",
      " 0.96194308 0.96219384 0.96244427 0.9626944  0.96294286 0.96319079\n",
      " 0.96343694 0.9636825  0.96392611 0.96416931 0.96441102 0.96465184\n",
      " 0.96489244 0.96513192 0.965371   0.96560746 0.96584264 0.96607697\n",
      " 0.96630953 0.96654165 0.96677304 0.96700386 0.96723416 0.96746332\n",
      " 0.96769209 0.96792004 0.96814696 0.96837205 0.96859694 0.96882054\n",
      " 0.9690423  0.96926353 0.96948402 0.96970376 0.96992306 0.9701407\n",
      " 0.97035662 0.97057116 0.97078443 0.97099703 0.97120942 0.97142089\n",
      " 0.97163142 0.97184046 0.97204863 0.9722557  0.97246179 0.9726671\n",
      " 0.97287197 0.97307588 0.97327892 0.97348096 0.97368269 0.97388331\n",
      " 0.97408118 0.97427836 0.97447503 0.97467083 0.97486499 0.97505814\n",
      " 0.97524988 0.97544013 0.97562983 0.97581894 0.97600732 0.97619513\n",
      " 0.9763821  0.9765682  0.97675324 0.97693807 0.97712204 0.97730516\n",
      " 0.97748807 0.97767042 0.97785215 0.97803293 0.97821163 0.97838963\n",
      " 0.9785674  0.97874451 0.97892006 0.97909461 0.97926836 0.97944129\n",
      " 0.97961294 0.97978407 0.97995414 0.98012305 0.98029118 0.98045783\n",
      " 0.98062438 0.98079031 0.98095516 0.98111877 0.98128161 0.9814435\n",
      " 0.98160497 0.98176624 0.9819266  0.98208662 0.98224594 0.98240495\n",
      " 0.98256339 0.98272095 0.98287818 0.98303429 0.98318956 0.98334456\n",
      " 0.98349937 0.9836531  0.98380654 0.98395955 0.98411236 0.98426456\n",
      " 0.98441628 0.98456738 0.98471845 0.98486835 0.98501767 0.98516646\n",
      " 0.9853149  0.98546266 0.98560979 0.98575631 0.98590198 0.98604727\n",
      " 0.98619194 0.98633624 0.98647933 0.98662234 0.98676457 0.98690618\n",
      " 0.98704731 0.98718804 0.98732863 0.98746845 0.98760716 0.98774579\n",
      " 0.98788341 0.9880205  0.98815689 0.98829211 0.98842701 0.9885614\n",
      " 0.98869534 0.98882865 0.98896091 0.98909297 0.98922422 0.98935297\n",
      " 0.98948158 0.98960934 0.9897365  0.98986349 0.98998981 0.99011518\n",
      " 0.99023962 0.99036358 0.99048588 0.99060795 0.99072929 0.9908505\n",
      " 0.99097147 0.9910904  0.99120869 0.99132656 0.99144319 0.99155952\n",
      " 0.99167574 0.9917896  0.99190333 0.99201628 0.99212909 0.99224147\n",
      " 0.99235354 0.99246427 0.99257475 0.99268451 0.99279349 0.99290179\n",
      " 0.99300866 0.99311424 0.99321954 0.99332442 0.99342578 0.99352547\n",
      " 0.99362335 0.99372085 0.99381809 0.99391468 0.99401074 0.99410627\n",
      " 0.99420061 0.99429466 0.99438802 0.99448066 0.99457293 0.99466479\n",
      " 0.99475572 0.99484639 0.99493634 0.99502562 0.99511429 0.99520208\n",
      " 0.9952898  0.99537655 0.99546317 0.99554929 0.99563467 0.99571942\n",
      " 0.99580389 0.99588826 0.99597236 0.99605639 0.99613994 0.9962224\n",
      " 0.99630464 0.99638623 0.99646733 0.99654824 0.99662896 0.99670888\n",
      " 0.99678818 0.99686626 0.99694381 0.99701969 0.99709373 0.9971669\n",
      " 0.99723994 0.99731247 0.9973831  0.99745335 0.997523   0.99759219\n",
      " 0.99766073 0.99772906 0.997797   0.99786399 0.99793047 0.99799659\n",
      " 0.99806249 0.99812819 0.99819356 0.99825859 0.99832173 0.99838461\n",
      " 0.99844705 0.99850881 0.99856944 0.99862963 0.99868929 0.99874872\n",
      " 0.99880774 0.99886633 0.99892394 0.99898111 0.99903806 0.99909474\n",
      " 0.99915127 0.99920468 0.99925751 0.99930916 0.99935844 0.99940193\n",
      " 0.9994451  0.99948717 0.9995291  0.99956909 0.99960898 0.99964645\n",
      " 0.99968194 0.99971518 0.99974696 0.99977632 0.99980552 0.99983078\n",
      " 0.99985155 0.99987057 0.99988763 0.99990242 0.99991629 0.99992801\n",
      " 0.99993956 0.99995096 0.99996136 0.99997012 0.99997867 0.99998622\n",
      " 0.99999248 0.99999599 0.99999816 1.        ]\n"
     ]
    },
    {
     "data": {
      "image/png": "[encoded data removed]",
      "text/plain": [
       "<Figure size 432x288 with 1 Axes>"
      ]
     },
     "metadata": {
      "needs_background": "light"
     },
     "output_type": "display_data"
    }
   ],
   "source": [
    "pca = PCA(n_components=None)# PCA initialising\n",
    "\n",
    "pca.fit(x_train_vectors.A) #fitting it to the training set\n",
    "X_train_pca = pca.transform(x_train_vectors.A) #transforming the training set\n",
    "X_val_pca = pca.transform(x_valid_vectors.A) #transforming the validation set\n",
    "X_test_pca = pca.transform(x_test_vectors.A) #transforming the test set\n",
    "\n",
    "print(pca.explained_variance_ratio_.cumsum())\n",
    "plt.plot(pca.explained_variance_ratio_.cumsum());#plotting the variance\n",
    "plt.xlabel('Principal Components')\n",
    "plt.ylabel('Variance Explained')\n",
    "plt.show()"
   ]
  },
  {
   "cell_type": "code",
   "execution_count": 144,
   "id": "d59e8b51",
   "metadata": {},
   "outputs": [],
   "source": [
    "X_train_pca1 = X_train_pca[:, 0:865] #extracting 865 components form all the datasets\n",
    "X_val_pca1 = X_val_pca[:, 0:865]\n",
    "X_test_pca1 = X_test_pca[:, 0:865]"
   ]
  },
  {
   "cell_type": "markdown",
   "id": "cd701de0",
   "metadata": {},
   "source": [
    "**NOTES:** \n",
    "Taking 865 principal components to get 99% variance, we get the following models."
   ]
  },
  {
   "cell_type": "markdown",
   "id": "9bbb44ad",
   "metadata": {},
   "source": [
    "### Logistic Regression"
   ]
  },
  {
   "cell_type": "code",
   "execution_count": 151,
   "id": "4c77806e",
   "metadata": {},
   "outputs": [
    {
     "name": "stdout",
     "output_type": "stream",
     "text": [
      "The training accuracy is  0.7199097933150956\n",
      "The validation accuracy is  0.7171419714817111\n",
      "The balanced accuracy is 0.5551404037452814\n",
      "\n",
      "The confusion matrix:\n",
      " [[  813  1265  3681]\n",
      " [  440  4161  2439]\n",
      " [  402   898 18161]]\n"
     ]
    },
    {
     "data": {
      "image/png": "[encoded data removed]",
      "text/plain": [
       "<Figure size 432x288 with 2 Axes>"
      ]
     },
     "metadata": {
      "needs_background": "light"
     },
     "output_type": "display_data"
    },
    {
     "name": "stdout",
     "output_type": "stream",
     "text": [
      "\n",
      "The performance metrics for the Validation data:\n",
      "               precision    recall  f1-score   support\n",
      "\n",
      "    moderate       0.49      0.14      0.22      5759\n",
      "         bad       0.66      0.59      0.62      7040\n",
      "        good       0.75      0.93      0.83     19461\n",
      "\n",
      "    accuracy                           0.72     32260\n",
      "   macro avg       0.63      0.56      0.56     32260\n",
      "weighted avg       0.68      0.72      0.68     32260\n",
      "\n"
     ]
    }
   ],
   "source": [
    "clf = LogisticRegression()#initialising the model\n",
    "model_run_clf(clf, X_train_pca1, X_val_pca1, y_train, y_valid) #rest of the process"
   ]
  },
  {
   "cell_type": "markdown",
   "id": "fa8b822d",
   "metadata": {},
   "source": [
    "**NOTES:**\n",
    "This is faster than the previous logistic regression model with the same performance as the previously best performing logistic regression model. So, this is not bad but there are still disadvantages with one class not being predicted very well."
   ]
  },
  {
   "cell_type": "markdown",
   "id": "e04eb502",
   "metadata": {},
   "source": [
    "### Bagging Classifier"
   ]
  },
  {
   "cell_type": "code",
   "execution_count": 150,
   "id": "ddc84ed9",
   "metadata": {},
   "outputs": [
    {
     "name": "stdout",
     "output_type": "stream",
     "text": [
      "The training accuracy is  0.9973108488263056\n",
      "The validation accuracy is  0.8041227526348419\n",
      "The balanced accuracy is 0.7247916547883865\n",
      "\n",
      "The confusion matrix:\n",
      " [[ 3127   695  1937]\n",
      " [  445  5064  1531]\n",
      " [  726   985 17750]]\n"
     ]
    },
    {
     "data": {
      "image/png": "[encoded data removed]",
      "text/plain": [
       "<Figure size 432x288 with 2 Axes>"
      ]
     },
     "metadata": {
      "needs_background": "light"
     },
     "output_type": "display_data"
    },
    {
     "name": "stdout",
     "output_type": "stream",
     "text": [
      "\n",
      "The performance metrics for the Validation data:\n",
      "               precision    recall  f1-score   support\n",
      "\n",
      "    moderate       0.73      0.54      0.62      5759\n",
      "         bad       0.75      0.72      0.73      7040\n",
      "        good       0.84      0.91      0.87     19461\n",
      "\n",
      "    accuracy                           0.80     32260\n",
      "   macro avg       0.77      0.72      0.74     32260\n",
      "weighted avg       0.80      0.80      0.80     32260\n",
      "\n"
     ]
    }
   ],
   "source": [
    "clf = BaggingClassifier(n_estimators = 20, n_jobs=-1) #initialising the model\n",
    "model_run_clf(clf, X_train_pca1, X_val_pca1, y_train, y_valid) #rest of the model"
   ]
  },
  {
   "cell_type": "markdown",
   "id": "7c17ba17",
   "metadata": {},
   "source": [
    "**NOTES:** \n",
    "The model did not improve in this case. It performed a bit worse than the best model but not by much. This is pretty good for using lesser features and time."
   ]
  },
  {
   "cell_type": "markdown",
   "id": "ae847df5",
   "metadata": {},
   "source": [
    "### Choosing the model\n",
    "Out of the two models, **the bagging classifier** performed the best with 74% balanced accuracy and 0.81 average f1 score. "
   ]
  },
  {
   "cell_type": "markdown",
   "id": "aa09e5bf",
   "metadata": {},
   "source": [
    "### Trying out one neural network model\n",
    "### Multi-Layer Perceptron Classifier"
   ]
  },
  {
   "cell_type": "code",
   "execution_count": 137,
   "id": "895d1185",
   "metadata": {},
   "outputs": [
    {
     "name": "stdout",
     "output_type": "stream",
     "text": [
      "The training accuracy is  0.9915218115734247\n",
      "The validation accuracy is  0.8077185368877867\n",
      "The balanced accuracy is 0.7478477809067106\n",
      "\n",
      "The confusion matrix:\n",
      " [[ 3535   701  1523]\n",
      " [  790  5211  1039]\n",
      " [ 1319   831 17311]]\n"
     ]
    },
    {
     "data": {
      "image/png": "[encoded data removed]",
      "text/plain": [
       "<Figure size 432x288 with 2 Axes>"
      ]
     },
     "metadata": {
      "needs_background": "light"
     },
     "output_type": "display_data"
    },
    {
     "name": "stdout",
     "output_type": "stream",
     "text": [
      "\n",
      "The performance metrics for the Validation data:\n",
      "               precision    recall  f1-score   support\n",
      "\n",
      "    moderate       0.63      0.61      0.62      5759\n",
      "         bad       0.77      0.74      0.76      7040\n",
      "        good       0.87      0.89      0.88     19461\n",
      "\n",
      "    accuracy                           0.81     32260\n",
      "   macro avg       0.76      0.75      0.75     32260\n",
      "weighted avg       0.81      0.81      0.81     32260\n",
      "\n"
     ]
    }
   ],
   "source": [
    "clf = MLPClassifier(random_state=1, max_iter=300) #initialising the model\n",
    "model_run_clf(clf, x_train_vectors, x_valid_vectors, y_train, y_valid) #rest of the process"
   ]
  },
  {
   "cell_type": "markdown",
   "id": "bc8ca43f",
   "metadata": {},
   "source": [
    "**NOTES:** We can see that this model performs as well as the best bagging classifier. So, if this model metrics can be improved, this would be a good final model. If the metrics cannot be improved, choosing a simpler model over a neural network model would be preferred for the same performance."
   ]
  },
  {
   "cell_type": "markdown",
   "id": "da1d32b0",
   "metadata": {},
   "source": [
    "### Paramter optimization for MLP classifier"
   ]
  },
  {
   "cell_type": "code",
   "execution_count": 167,
   "id": "03114313",
   "metadata": {},
   "outputs": [
    {
     "name": "stdout",
     "output_type": "stream",
     "text": [
      "MLPClassifier(max_iter=1000, random_state=1)\n",
      "The training accuracy is  0.9947921913869665\n",
      "The validation accuracy is  0.8087104773713577\n",
      "The balanced accuracy is 0.753887323357033\n",
      "\n",
      "The confusion matrix:\n",
      " [[ 3626   712  1421]\n",
      " [  779  5270   991]\n",
      " [ 1413   855 17193]]\n"
     ]
    },
    {
     "data": {
      "image/png": "[encoded data removed]",
      "text/plain": [
       "<Figure size 432x288 with 2 Axes>"
      ]
     },
     "metadata": {
      "needs_background": "light"
     },
     "output_type": "display_data"
    },
    {
     "name": "stdout",
     "output_type": "stream",
     "text": [
      "\n",
      "The performance metrics for the Validation data:\n",
      "               precision    recall  f1-score   support\n",
      "\n",
      "    moderate       0.62      0.63      0.63      5759\n",
      "         bad       0.77      0.75      0.76      7040\n",
      "        good       0.88      0.88      0.88     19461\n",
      "\n",
      "    accuracy                           0.81     32260\n",
      "   macro avg       0.76      0.75      0.76     32260\n",
      "weighted avg       0.81      0.81      0.81     32260\n",
      "\n"
     ]
    }
   ],
   "source": [
    "estimator = MLPClassifier(random_state=1, max_iter=1000)\n",
    "parameters = {'alpha': [0.00001, 0.0001, 0.001, 0.01, 0.1]}\n",
    "clf = GridSearchCV(estimator, parameters, cv = 3, scoring = 'balanced_accuracy', n_jobs = -1)\n",
    "clf.fit(x_train_vectors, y_train)\n",
    "print(clf.best_estimator_)\n",
    "model_run_clf(clf.best_estimator_, x_train_vectors, x_valid_vectors, y_train, y_valid)"
   ]
  },
  {
   "cell_type": "markdown",
   "id": "5e67d30c",
   "metadata": {},
   "source": [
    "**NOTES:**\n",
    "The model improved very slightly but it has a very long run time. To choose the best classifier, the models are run on the test sets to see their performance."
   ]
  },
  {
   "cell_type": "markdown",
   "id": "6bcdb0f8",
   "metadata": {},
   "source": [
    "### Peformance on Test set"
   ]
  },
  {
   "cell_type": "markdown",
   "id": "471599c3",
   "metadata": {},
   "source": [
    "### Bagging Classifier"
   ]
  },
  {
   "cell_type": "code",
   "execution_count": 158,
   "id": "fe8e0cb1",
   "metadata": {
    "scrolled": true
   },
   "outputs": [
    {
     "name": "stdout",
     "output_type": "stream",
     "text": [
      "The training accuracy is  0.9967063710408642\n",
      "The validation accuracy is  0.8107168098798497\n",
      "The balanced accuracy is 0.7422914755441431\n",
      "\n",
      "The confusion matrix:\n",
      " [[ 5482  1227  2870]\n",
      " [  843  8898  2097]\n",
      " [ 1511  1629 29209]]\n"
     ]
    },
    {
     "data": {
      "image/png": "[encoded data removed]",
      "text/plain": [
       "<Figure size 432x288 with 2 Axes>"
      ]
     },
     "metadata": {
      "needs_background": "light"
     },
     "output_type": "display_data"
    },
    {
     "name": "stdout",
     "output_type": "stream",
     "text": [
      "\n",
      "The performance metrics for the Validation data:\n",
      "               precision    recall  f1-score   support\n",
      "\n",
      "    moderate       0.70      0.57      0.63      9579\n",
      "         bad       0.76      0.75      0.75     11838\n",
      "        good       0.85      0.90      0.88     32349\n",
      "\n",
      "    accuracy                           0.81     53766\n",
      "   macro avg       0.77      0.74      0.75     53766\n",
      "weighted avg       0.81      0.81      0.81     53766\n",
      "\n",
      "CPU times: user 1.9 s, sys: 347 ms, total: 2.24 s\n",
      "Wall time: 4min 9s\n"
     ]
    }
   ],
   "source": [
    "%%time\n",
    "clf = BaggingClassifier(n_estimators = 20, n_jobs=-1)\n",
    "model_run_clf(clf, x_train_vectors, x_test_vectors, y_train, y_test)"
   ]
  },
  {
   "cell_type": "markdown",
   "id": "32b50485",
   "metadata": {},
   "source": [
    "**NOTES:**\n",
    "The model performed pretty well on the testing set too. The balanced accuracy os 74.2% and the f1 score is 0.81. These values are similar to the training and validation scores. This model took 4 mins and 9 seconds to run. "
   ]
  },
  {
   "cell_type": "markdown",
   "id": "8d2c58d9",
   "metadata": {},
   "source": [
    "### MLP Classifier"
   ]
  },
  {
   "cell_type": "code",
   "execution_count": 159,
   "id": "bda5665f",
   "metadata": {},
   "outputs": [
    {
     "name": "stdout",
     "output_type": "stream",
     "text": [
      "The training accuracy is  0.9935134883793021\n",
      "The validation accuracy is  0.8064204143882752\n",
      "The balanced accuracy is 0.748709323935307\n",
      "\n",
      "The confusion matrix:\n",
      " [[ 5917  1221  2441]\n",
      " [ 1314  8794  1730]\n",
      " [ 2302  1400 28647]]\n"
     ]
    },
    {
     "data": {
      "image/png": "[encoded data removed]",
      "text/plain": [
       "<Figure size 432x288 with 2 Axes>"
      ]
     },
     "metadata": {
      "needs_background": "light"
     },
     "output_type": "display_data"
    },
    {
     "name": "stdout",
     "output_type": "stream",
     "text": [
      "\n",
      "The performance metrics for the Validation data:\n",
      "               precision    recall  f1-score   support\n",
      "\n",
      "    moderate       0.62      0.62      0.62      9579\n",
      "         bad       0.77      0.74      0.76     11838\n",
      "        good       0.87      0.89      0.88     32349\n",
      "\n",
      "    accuracy                           0.81     53766\n",
      "   macro avg       0.75      0.75      0.75     53766\n",
      "weighted avg       0.81      0.81      0.81     53766\n",
      "\n",
      "CPU times: user 15min 44s, sys: 4min 45s, total: 20min 30s\n",
      "Wall time: 3min 5s\n"
     ]
    }
   ],
   "source": [
    "%%time\n",
    "clf = MLPClassifier(alpha=1e-05, max_iter=300, random_state=1)\n",
    "model_run_clf(clf, x_train_vectors, x_test_vectors, y_train, y_test)"
   ]
  },
  {
   "cell_type": "markdown",
   "id": "0362f5ee",
   "metadata": {},
   "source": [
    "**NOTES:**\n",
    "This model also has done pretty well. The balanced acuuracy is 74.8% and the f1-score is 0.81. This model took 3 min and 5s to run which is way better than the previous model."
   ]
  },
  {
   "cell_type": "markdown",
   "id": "b17e7b09",
   "metadata": {},
   "source": [
    "## ANSWER - FINAL CHOSEN MODEL"
   ]
  },
  {
   "cell_type": "markdown",
   "id": "892f5fd5",
   "metadata": {},
   "source": [
    "From the above tests, we can see that the best model can be either **bagging classifier** or **MLP classifier**. Performance wise, both the models performed very similar. The MLP classifier took lesser time to run but it is more complicated than the bagging classifier. So, keeping the complexity in mind, I would choose **BAGGING CLASSIFIER** as the final model. The results are summarized once more for the chosen model below."
   ]
  },
  {
   "cell_type": "code",
   "execution_count": 161,
   "id": "c2c3040c",
   "metadata": {},
   "outputs": [
    {
     "name": "stdout",
     "output_type": "stream",
     "text": [
      "Training and Validation\n",
      "The training accuracy is  0.9966443733192805\n",
      "The validation accuracy is  0.8101673899566026\n",
      "The balanced accuracy is 0.7456046237910899\n",
      "\n",
      "The confusion matrix:\n",
      " [[ 3403   710  1646]\n",
      " [  516  5270  1254]\n",
      " [  950  1048 17463]]\n"
     ]
    },
    {
     "data": {
      "image/png": "[encoded data removed]",
      "text/plain": [
       "<Figure size 432x288 with 2 Axes>"
      ]
     },
     "metadata": {
      "needs_background": "light"
     },
     "output_type": "display_data"
    },
    {
     "name": "stdout",
     "output_type": "stream",
     "text": [
      "\n",
      "The performance metrics for the Validation data:\n",
      "               precision    recall  f1-score   support\n",
      "\n",
      "    moderate       0.70      0.59      0.64      5759\n",
      "         bad       0.75      0.75      0.75      7040\n",
      "        good       0.86      0.90      0.88     19461\n",
      "\n",
      "    accuracy                           0.81     32260\n",
      "   macro avg       0.77      0.75      0.76     32260\n",
      "weighted avg       0.81      0.81      0.81     32260\n",
      "\n",
      "Training and Testing\n",
      "The training accuracy is  0.9965746258824988\n",
      "The validation accuracy is  0.8093590745080534\n",
      "The balanced accuracy is 0.7407342193401765\n",
      "\n",
      "The confusion matrix:\n",
      " [[ 5471  1248  2860]\n",
      " [  875  8868  2095]\n",
      " [ 1539  1633 29177]]\n"
     ]
    },
    {
     "data": {
      "image/png": "[encoded data removed]",
      "text/plain": [
       "<Figure size 432x288 with 2 Axes>"
      ]
     },
     "metadata": {
      "needs_background": "light"
     },
     "output_type": "display_data"
    },
    {
     "name": "stdout",
     "output_type": "stream",
     "text": [
      "\n",
      "The performance metrics for the Validation data:\n",
      "               precision    recall  f1-score   support\n",
      "\n",
      "    moderate       0.69      0.57      0.63      9579\n",
      "         bad       0.75      0.75      0.75     11838\n",
      "        good       0.85      0.90      0.88     32349\n",
      "\n",
      "    accuracy                           0.81     53766\n",
      "   macro avg       0.77      0.74      0.75     53766\n",
      "weighted avg       0.80      0.81      0.81     53766\n",
      "\n"
     ]
    }
   ],
   "source": [
    "print('Training and Validation')\n",
    "clf = BaggingClassifier(n_estimators = 20, n_jobs=-1)\n",
    "model_run_clf(clf, x_train_vectors, x_valid_vectors, y_train, y_valid)\n",
    "\n",
    "print('Training and Testing')\n",
    "clf = BaggingClassifier(n_estimators = 20, n_jobs=-1)\n",
    "model_run_clf(clf, x_train_vectors, x_test_vectors, y_train, y_test)"
   ]
  },
  {
   "cell_type": "markdown",
   "id": "d1bcb8a6",
   "metadata": {},
   "source": [
    "### Findings"
   ]
  },
  {
   "cell_type": "markdown",
   "id": "757637e2",
   "metadata": {},
   "source": [
    "The model performance was pretty bad for some of the classic classification algorithms like decision tree. Although logistic regression comparatively did better than other models, it failed to predict one of the classes, metrics of class \"moderate\" was very low. Almost all classifiers had a problem with predicting that class, even the best classifier models had the lowest metrics for class \"moderate\". The class \"good\" was predicted the best, even the worst classifiers predicted that class really well. That could have been because there were more instances with class \"good\" than other models. The models that performed well were ensemble models and the neural network model. Keeping in mind the complexity of the models and the results, the final model was chosen to be **Bagging Classifier**"
   ]
  },
  {
   "cell_type": "markdown",
   "id": "85ea2d18",
   "metadata": {},
   "source": [
    "### What I could have done better?"
   ]
  },
  {
   "cell_type": "markdown",
   "id": "b878fee7",
   "metadata": {},
   "source": [
    "If I had more time, \n",
    "* I would have tried to include the condition variable in the analysis too as that contributes to the ratings too. \n",
    "* I would have tried more complex models as this dataset seems to respond well to that, like try other neural network models.\n",
    "* I would try more hyperparameters for MLP classifier to improve accuracy."
   ]
  }
 ],
 "metadata": {
  "kernelspec": {
   "display_name": "Python 3 (ipykernel)",
   "language": "python",
   "name": "python3"
  },
  "language_info": {
   "codemirror_mode": {
    "name": "ipython",
    "version": 3
   },
   "file_extension": ".py",
   "mimetype": "text/x-python",
   "name": "python",
   "nbconvert_exporter": "python",
   "pygments_lexer": "ipython3",
   "version": "3.9.12"
  }
 },
 "nbformat": 4,
 "nbformat_minor": 5
}
